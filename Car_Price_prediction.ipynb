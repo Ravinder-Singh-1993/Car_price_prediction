{
 "cells": [
  {
   "cell_type": "markdown",
   "id": "6b37733b",
   "metadata": {},
   "source": [
    "## Predict the price of cars in the data scrapped"
   ]
  },
  {
   "cell_type": "code",
   "execution_count": 1,
   "id": "6c29c010",
   "metadata": {},
   "outputs": [],
   "source": [
    "# Importing Libraries\n",
    "import pandas as pd\n",
    "import numpy as np\n",
    "import warnings\n",
    "import seaborn as sns\n",
    "import matplotlib.pyplot as plt\n",
    "warnings.filterwarnings('ignore')"
   ]
  },
  {
   "cell_type": "code",
   "execution_count": 9,
   "id": "c40a99c7",
   "metadata": {},
   "outputs": [
    {
     "data": {
      "text/html": [
       "<div>\n",
       "<style scoped>\n",
       "    .dataframe tbody tr th:only-of-type {\n",
       "        vertical-align: middle;\n",
       "    }\n",
       "\n",
       "    .dataframe tbody tr th {\n",
       "        vertical-align: top;\n",
       "    }\n",
       "\n",
       "    .dataframe thead th {\n",
       "        text-align: right;\n",
       "    }\n",
       "</style>\n",
       "<table border=\"1\" class=\"dataframe\">\n",
       "  <thead>\n",
       "    <tr style=\"text-align: right;\">\n",
       "      <th></th>\n",
       "      <th>Make_Year</th>\n",
       "      <th>Brand</th>\n",
       "      <th>Model</th>\n",
       "      <th>Transmission</th>\n",
       "      <th>Kms</th>\n",
       "      <th>Owner</th>\n",
       "      <th>Variant</th>\n",
       "      <th>City</th>\n",
       "      <th>Price</th>\n",
       "    </tr>\n",
       "  </thead>\n",
       "  <tbody>\n",
       "    <tr>\n",
       "      <th>0</th>\n",
       "      <td>2011</td>\n",
       "      <td>Toyota Corolla Altis</td>\n",
       "      <td>1.8 G Manual</td>\n",
       "      <td>Manual</td>\n",
       "      <td>1,22,364 km</td>\n",
       "      <td>2nd Owner</td>\n",
       "      <td>Petrol + CNG</td>\n",
       "      <td>Mumbai</td>\n",
       "      <td>['₹3,85,599']</td>\n",
       "    </tr>\n",
       "    <tr>\n",
       "      <th>1</th>\n",
       "      <td>2013</td>\n",
       "      <td>Maruti Ritz</td>\n",
       "      <td>ZXI Manual</td>\n",
       "      <td>Manual</td>\n",
       "      <td>14,047 km</td>\n",
       "      <td>1st Owner</td>\n",
       "      <td>Petrol</td>\n",
       "      <td>Mumbai</td>\n",
       "      <td>['₹3,83,999']</td>\n",
       "    </tr>\n",
       "    <tr>\n",
       "      <th>2</th>\n",
       "      <td>2016</td>\n",
       "      <td>Maruti Baleno</td>\n",
       "      <td>DELTA 1.2 K12 Manual</td>\n",
       "      <td>Manual</td>\n",
       "      <td>11,510 km</td>\n",
       "      <td>2nd Owner</td>\n",
       "      <td>Petrol</td>\n",
       "      <td>Mumbai</td>\n",
       "      <td>['₹5,06,399']</td>\n",
       "    </tr>\n",
       "    <tr>\n",
       "      <th>3</th>\n",
       "      <td>2012</td>\n",
       "      <td>Honda Accord</td>\n",
       "      <td>2.4 MT Manual</td>\n",
       "      <td>Manual</td>\n",
       "      <td>50,161 km</td>\n",
       "      <td>2nd Owner</td>\n",
       "      <td>Petrol</td>\n",
       "      <td>Mumbai</td>\n",
       "      <td>['₹5,20,199']</td>\n",
       "    </tr>\n",
       "    <tr>\n",
       "      <th>4</th>\n",
       "      <td>2016</td>\n",
       "      <td>Volkswagen Polo</td>\n",
       "      <td>TRENDLINE 1.2L PETROL Manual</td>\n",
       "      <td>Manual</td>\n",
       "      <td>62,799 km</td>\n",
       "      <td>1st Owner</td>\n",
       "      <td>Petrol</td>\n",
       "      <td>Mumbai</td>\n",
       "      <td>['₹4,67,599']</td>\n",
       "    </tr>\n",
       "    <tr>\n",
       "      <th>...</th>\n",
       "      <td>...</td>\n",
       "      <td>...</td>\n",
       "      <td>...</td>\n",
       "      <td>...</td>\n",
       "      <td>...</td>\n",
       "      <td>...</td>\n",
       "      <td>...</td>\n",
       "      <td>...</td>\n",
       "      <td>...</td>\n",
       "    </tr>\n",
       "    <tr>\n",
       "      <th>3746</th>\n",
       "      <td>2012</td>\n",
       "      <td>Honda Brio</td>\n",
       "      <td>1.2 V MT I VTEC Manual</td>\n",
       "      <td>Manual</td>\n",
       "      <td>44,196 km</td>\n",
       "      <td>2nd Owner</td>\n",
       "      <td>Petrol</td>\n",
       "      <td>Bengaluru</td>\n",
       "      <td>['₹3,54,699']</td>\n",
       "    </tr>\n",
       "    <tr>\n",
       "      <th>3747</th>\n",
       "      <td>2020</td>\n",
       "      <td>Maruti Swift</td>\n",
       "      <td>ZXI+ Manual</td>\n",
       "      <td>Manual</td>\n",
       "      <td>13,366 km</td>\n",
       "      <td>2nd Owner</td>\n",
       "      <td>Petrol</td>\n",
       "      <td>Bengaluru</td>\n",
       "      <td>['₹7,74,499']</td>\n",
       "    </tr>\n",
       "    <tr>\n",
       "      <th>3748</th>\n",
       "      <td>2020</td>\n",
       "      <td>Mahindra XUV 3OO</td>\n",
       "      <td>W8 (O) DIESEL AT Automatic</td>\n",
       "      <td>Automatic</td>\n",
       "      <td>15,075 km</td>\n",
       "      <td>1st Owner</td>\n",
       "      <td>Diesel</td>\n",
       "      <td>Bengaluru</td>\n",
       "      <td>['₹14,68,799']</td>\n",
       "    </tr>\n",
       "    <tr>\n",
       "      <th>3749</th>\n",
       "      <td>2011</td>\n",
       "      <td>Hyundai i10</td>\n",
       "      <td>SPORTZ 1.2 AT KAPPA2 Automatic</td>\n",
       "      <td>Automatic</td>\n",
       "      <td>71,825 km</td>\n",
       "      <td>1st Owner</td>\n",
       "      <td>Petrol</td>\n",
       "      <td>Bengaluru</td>\n",
       "      <td>['₹3,60,799']</td>\n",
       "    </tr>\n",
       "    <tr>\n",
       "      <th>3750</th>\n",
       "      <td>2018</td>\n",
       "      <td>Tata TIGOR</td>\n",
       "      <td>Revotron XZA 1.2 Automatic</td>\n",
       "      <td>Automatic</td>\n",
       "      <td>42,312 km</td>\n",
       "      <td>1st Owner</td>\n",
       "      <td>Petrol</td>\n",
       "      <td>Bengaluru</td>\n",
       "      <td>['₹5,84,699']</td>\n",
       "    </tr>\n",
       "  </tbody>\n",
       "</table>\n",
       "<p>3751 rows × 9 columns</p>\n",
       "</div>"
      ],
      "text/plain": [
       "      Make_Year                 Brand                           Model  \\\n",
       "0          2011  Toyota Corolla Altis                    1.8 G Manual   \n",
       "1          2013           Maruti Ritz                      ZXI Manual   \n",
       "2          2016         Maruti Baleno            DELTA 1.2 K12 Manual   \n",
       "3          2012          Honda Accord                   2.4 MT Manual   \n",
       "4          2016       Volkswagen Polo    TRENDLINE 1.2L PETROL Manual   \n",
       "...         ...                   ...                             ...   \n",
       "3746       2012            Honda Brio          1.2 V MT I VTEC Manual   \n",
       "3747       2020          Maruti Swift                     ZXI+ Manual   \n",
       "3748       2020      Mahindra XUV 3OO      W8 (O) DIESEL AT Automatic   \n",
       "3749       2011           Hyundai i10  SPORTZ 1.2 AT KAPPA2 Automatic   \n",
       "3750       2018            Tata TIGOR      Revotron XZA 1.2 Automatic   \n",
       "\n",
       "     Transmission          Kms      Owner       Variant       City  \\\n",
       "0          Manual  1,22,364 km  2nd Owner  Petrol + CNG     Mumbai   \n",
       "1          Manual    14,047 km  1st Owner        Petrol     Mumbai   \n",
       "2          Manual    11,510 km  2nd Owner        Petrol     Mumbai   \n",
       "3          Manual    50,161 km  2nd Owner        Petrol     Mumbai   \n",
       "4          Manual    62,799 km  1st Owner        Petrol     Mumbai   \n",
       "...           ...          ...        ...           ...        ...   \n",
       "3746       Manual    44,196 km  2nd Owner        Petrol  Bengaluru   \n",
       "3747       Manual    13,366 km  2nd Owner        Petrol  Bengaluru   \n",
       "3748    Automatic    15,075 km  1st Owner        Diesel  Bengaluru   \n",
       "3749    Automatic    71,825 km  1st Owner        Petrol  Bengaluru   \n",
       "3750    Automatic    42,312 km  1st Owner        Petrol  Bengaluru   \n",
       "\n",
       "               Price  \n",
       "0      ['₹3,85,599']  \n",
       "1      ['₹3,83,999']  \n",
       "2      ['₹5,06,399']  \n",
       "3      ['₹5,20,199']  \n",
       "4      ['₹4,67,599']  \n",
       "...              ...  \n",
       "3746   ['₹3,54,699']  \n",
       "3747   ['₹7,74,499']  \n",
       "3748  ['₹14,68,799']  \n",
       "3749   ['₹3,60,799']  \n",
       "3750   ['₹5,84,699']  \n",
       "\n",
       "[3751 rows x 9 columns]"
      ]
     },
     "execution_count": 9,
     "metadata": {},
     "output_type": "execute_result"
    }
   ],
   "source": [
    "#Reading the Data\n",
    "data=pd.read_csv('Used_cars.csv')\n",
    "data=data.drop('Unnamed: 0',axis=1)\n",
    "data"
   ]
  },
  {
   "cell_type": "markdown",
   "id": "8d9149be",
   "metadata": {},
   "source": [
    "# EDA\n",
    "## Understanding the Data"
   ]
  },
  {
   "cell_type": "code",
   "execution_count": 10,
   "id": "cce023ee",
   "metadata": {},
   "outputs": [
    {
     "data": {
      "text/plain": [
       "Make_Year       0\n",
       "Brand           0\n",
       "Model           0\n",
       "Transmission    0\n",
       "Kms             0\n",
       "Owner           0\n",
       "Variant         0\n",
       "City            0\n",
       "Price           0\n",
       "dtype: int64"
      ]
     },
     "execution_count": 10,
     "metadata": {},
     "output_type": "execute_result"
    }
   ],
   "source": [
    "#Checking for null values \n",
    "data.isna().sum()"
   ]
  },
  {
   "cell_type": "code",
   "execution_count": 11,
   "id": "ef3f32f2",
   "metadata": {},
   "outputs": [
    {
     "data": {
      "text/plain": [
       "Make_Year        int64\n",
       "Brand           object\n",
       "Model           object\n",
       "Transmission    object\n",
       "Kms             object\n",
       "Owner           object\n",
       "Variant         object\n",
       "City            object\n",
       "Price           object\n",
       "dtype: object"
      ]
     },
     "execution_count": 11,
     "metadata": {},
     "output_type": "execute_result"
    }
   ],
   "source": [
    "data.dtypes"
   ]
  },
  {
   "cell_type": "markdown",
   "id": "0b6daa54",
   "metadata": {},
   "source": [
    "## Data Cleaning"
   ]
  },
  {
   "cell_type": "code",
   "execution_count": 12,
   "id": "e7c483e5",
   "metadata": {},
   "outputs": [
    {
     "data": {
      "text/plain": [
       "array(['2nd Owner', '1st Owner', '3rd Owner'], dtype=object)"
      ]
     },
     "execution_count": 12,
     "metadata": {},
     "output_type": "execute_result"
    }
   ],
   "source": [
    "for i in range(len(data)):\n",
    "    data['Kms'][i]=data['Kms'][i].replace(\"km\", \"\").strip()\n",
    "for i in range(len(data)):\n",
    "    data['Kms'][i]=data['Kms'][i].replace(',', '')\n",
    "# Convert single column to int dtype\n",
    "data['Kms'] = pd.to_numeric(data['Kms'])\n",
    "data.Owner.unique()"
   ]
  },
  {
   "cell_type": "code",
   "execution_count": 13,
   "id": "fc592400",
   "metadata": {},
   "outputs": [
    {
     "data": {
      "text/plain": [
       "array(['Mumbai', 'Gurgaon', 'Kolkata', 'Noida', 'Chennai', 'Pune',\n",
       "       'Hyderabad', 'Bengaluru'], dtype=object)"
      ]
     },
     "execution_count": 13,
     "metadata": {},
     "output_type": "execute_result"
    }
   ],
   "source": [
    "for i in range(len(data)):\n",
    "    data['Price'][i]=data['Price'][i].replace('[','').replace(']','').replace('₹','').replace(',','').replace(\"'\",'')\n",
    "data['Price']=pd.to_numeric(data['Price'])\n",
    "data.City.unique()"
   ]
  },
  {
   "cell_type": "markdown",
   "id": "4e542205",
   "metadata": {},
   "source": [
    "# Univariate Analysis"
   ]
  },
  {
   "cell_type": "code",
   "execution_count": 16,
   "id": "138cf3cd",
   "metadata": {},
   "outputs": [
    {
     "data": {
      "text/plain": [
       "<AxesSubplot:xlabel='City', ylabel='count'>"
      ]
     },
     "execution_count": 16,
     "metadata": {},
     "output_type": "execute_result"
    },
    {
     "data": {
      "image/png": "[encoded data removed]",
      "text/plain": [
       "<Figure size 432x288 with 1 Axes>"
      ]
     },
     "metadata": {
      "needs_background": "light"
     },
     "output_type": "display_data"
    }
   ],
   "source": [
    "sns.countplot(data.City, color = 'Orange')"
   ]
  },
  {
   "cell_type": "code",
   "execution_count": 17,
   "id": "32634cf0",
   "metadata": {},
   "outputs": [
    {
     "data": {
      "text/plain": [
       "<AxesSubplot:xlabel='Owner', ylabel='count'>"
      ]
     },
     "execution_count": 17,
     "metadata": {},
     "output_type": "execute_result"
    },
    {
     "data": {
      "image/png": "[encoded data removed]",
      "text/plain": [
       "<Figure size 432x288 with 1 Axes>"
      ]
     },
     "metadata": {
      "needs_background": "light"
     },
     "output_type": "display_data"
    }
   ],
   "source": [
    "sns.countplot(data.Owner, color = 'Orange')\n"
   ]
  },
  {
   "cell_type": "code",
   "execution_count": 18,
   "id": "6ccc3db3",
   "metadata": {},
   "outputs": [
    {
     "data": {
      "text/plain": [
       "<AxesSubplot:xlabel='Price', ylabel='Density'>"
      ]
     },
     "execution_count": 18,
     "metadata": {},
     "output_type": "execute_result"
    },
    {
     "data": {
      "image/png": "[encoded data removed]",
      "text/plain": [
       "<Figure size 432x288 with 1 Axes>"
      ]
     },
     "metadata": {
      "needs_background": "light"
     },
     "output_type": "display_data"
    }
   ],
   "source": [
    "sns.distplot(data.Price, color = 'Orange')"
   ]
  },
  {
   "cell_type": "code",
   "execution_count": 19,
   "id": "5d47c85d",
   "metadata": {},
   "outputs": [
    {
     "data": {
      "text/plain": [
       "array(['Toyota', 'Maruti', 'Honda', 'Volkswagen', 'BMW', 'Hyundai',\n",
       "       'Tata', 'Ford', 'Renault', 'KIA', 'Mercedes', 'Datsun', 'MG',\n",
       "       'Skoda', 'Mahindra', 'Jeep', 'Nissan', 'Audi', 'Jaguar', 'Fiat'],\n",
       "      dtype=object)"
      ]
     },
     "execution_count": 19,
     "metadata": {},
     "output_type": "execute_result"
    }
   ],
   "source": [
    "for i in range(len(data)):\n",
    "    a=data.Brand[i].split(\" \")\n",
    "    data.Model[i]=a[1::]\n",
    "    data.Brand[i]=a[0]\n",
    "for i in range(len(data)):\n",
    "    if len(data.Model[i])==1:\n",
    "        data.Model[i]=data.Model[i][0]\n",
    "    if len(data.Model[i])==2:\n",
    "        data.Model[i]=data.Model[i][0]+\" \"+data.Model[i][1]\n",
    "    if len(data.Model[i])==3:\n",
    "        data.Model[i]=data.Model[i][0]+\" \"+data.Model[i][1]+\" \"+data.Model[i][2]\n",
    "data.Brand.unique()"
   ]
  },
  {
   "cell_type": "code",
   "execution_count": 20,
   "id": "f0b987ed",
   "metadata": {},
   "outputs": [
    {
     "data": {
      "text/plain": [
       "array(['Corolla Altis', 'Ritz', 'Baleno', 'Accord', 'Polo', '3 Series',\n",
       "       'i 2 0', 'Grand i10', 'TIGOR', 'Swift Dzire', 'Swift',\n",
       "       'Figo Aspire', 'Elite i20', 'Amaze', 'Verna', 'Kwid', 'Alto K10',\n",
       "       'SELTOS', 'New Wagon-R', 'Etios Liva', 'Vento', 'Alto 800',\n",
       "       'Benz C Class', 'Benz E Class', 'C R V', 'Tiago', 'City',\n",
       "       'Harrier', 'Duster', 'Redi Go', 'TRIBER', 'Celerio', 'HECTOR',\n",
       "       'URBAN CRUISER', 'Ciaz', 'Jazz', 'i20 Active', 'Rapid',\n",
       "       'Vitara Brezza', 'Wagon R 1.0', 'XUV 3OO', 'Hexa', 'i 1 0',\n",
       "       'TUV300', 'WR-V', 'Creta', 'XUV500', 'Ecosport', 'Xcent',\n",
       "       'Tucson New', 'Brio', 'Dzire', 'Ameo', 'Figo', 'NEW SANTRO',\n",
       "       'E o n', 'S PRESSO', 'Compass', 'VENUE', 'Etios', 'Civic',\n",
       "       'Superb', 'New Elantra', 'Glanza', 'S Cross', 'Micra Active',\n",
       "       'GRAND I10 NIOS', 'NEXON', 'IGNIS', 'ALTROZ', 'Alto', 'Terrano',\n",
       "       'YARIS', 'Ertiga', 'Innova', 'Jetta', 'A   3', 'X   1', 'Kiger',\n",
       "       'HECTOR PLUS', 'Micra', 'X   F', 'MAGNITE', 'SONET', 'PUNCH',\n",
       "       'X   3', 'Q   3', 'NEW I20', 'A   4', 'Thar', 'Scorpio', 'Octavia',\n",
       "       'Fortuner', 'A   6', '5 Series', 'Safari', 'X L 6', 'Santro Xing',\n",
       "       'Celerio X', 'Go Plus', 'MARAZZO', 'Kicks', 'Captur', 'Eeco',\n",
       "       'TAIGUN', 'New Figo', 'BR-V', 'FREESTYLE', 'Xylo', 'A Star',\n",
       "       'URBAN CROSS', 'Camry', 'BOLERO NEO', 'Wagon R Duo', 'Accent',\n",
       "       'Kuv100', 'AURA', 'Bolt', 'Pulse', 'G   o', 'Nano', 'Zen Estilo'],\n",
       "      dtype=object)"
      ]
     },
     "execution_count": 20,
     "metadata": {},
     "output_type": "execute_result"
    }
   ],
   "source": [
    "data.Model.unique()"
   ]
  },
  {
   "cell_type": "markdown",
   "id": "d201ebda",
   "metadata": {},
   "source": [
    "# Bi-variate Analysis"
   ]
  },
  {
   "cell_type": "code",
   "execution_count": 21,
   "id": "fdedcc6c",
   "metadata": {},
   "outputs": [
    {
     "data": {
      "image/png": "[encoded data removed]",
      "text/plain": [
       "<Figure size 720x720 with 1 Axes>"
      ]
     },
     "metadata": {
      "needs_background": "light"
     },
     "output_type": "display_data"
    }
   ],
   "source": [
    "plt.figure(figsize=(10,10))\n",
    "sns.barplot(x=data.Make_Year, y=data.Price)\n",
    "brand_Unique=list(data.Brand.unique())\n",
    "averagePrice=[]"
   ]
  },
  {
   "cell_type": "markdown",
   "id": "6df17d77",
   "metadata": {},
   "source": [
    "# Co-Relation Matrix"
   ]
  },
  {
   "cell_type": "code",
   "execution_count": 25,
   "id": "76076157",
   "metadata": {},
   "outputs": [
    {
     "data": {
      "image/png": "[encoded data removed]",
      "text/plain": [
       "<Figure size 432x288 with 2 Axes>"
      ]
     },
     "metadata": {
      "needs_background": "light"
     },
     "output_type": "display_data"
    }
   ],
   "source": [
    "sns.heatmap(data.corr(),cmap=\"PiYG\", annot = True)\n",
    "plt.title('Correlation')\n",
    "plt.show()"
   ]
  },
  {
   "cell_type": "markdown",
   "id": "a21f6b5f",
   "metadata": {},
   "source": [
    "# Dummy Values"
   ]
  },
  {
   "cell_type": "code",
   "execution_count": 26,
   "id": "34b8e7d8",
   "metadata": {},
   "outputs": [
    {
     "data": {
      "text/html": [
       "<div>\n",
       "<style scoped>\n",
       "    .dataframe tbody tr th:only-of-type {\n",
       "        vertical-align: middle;\n",
       "    }\n",
       "\n",
       "    .dataframe tbody tr th {\n",
       "        vertical-align: top;\n",
       "    }\n",
       "\n",
       "    .dataframe thead th {\n",
       "        text-align: right;\n",
       "    }\n",
       "</style>\n",
       "<table border=\"1\" class=\"dataframe\">\n",
       "  <thead>\n",
       "    <tr style=\"text-align: right;\">\n",
       "      <th></th>\n",
       "      <th>Make_Year</th>\n",
       "      <th>Kms</th>\n",
       "      <th>Price</th>\n",
       "      <th>Brand_BMW</th>\n",
       "      <th>Brand_Datsun</th>\n",
       "      <th>Brand_Fiat</th>\n",
       "      <th>Brand_Ford</th>\n",
       "      <th>Brand_Honda</th>\n",
       "      <th>Brand_Hyundai</th>\n",
       "      <th>Brand_Jaguar</th>\n",
       "      <th>...</th>\n",
       "      <th>Variant_Petrol + CNG</th>\n",
       "      <th>Variant_Petrol + Ev</th>\n",
       "      <th>Variant_Petrol + LPG</th>\n",
       "      <th>City_Chennai</th>\n",
       "      <th>City_Gurgaon</th>\n",
       "      <th>City_Hyderabad</th>\n",
       "      <th>City_Kolkata</th>\n",
       "      <th>City_Mumbai</th>\n",
       "      <th>City_Noida</th>\n",
       "      <th>City_Pune</th>\n",
       "    </tr>\n",
       "  </thead>\n",
       "  <tbody>\n",
       "    <tr>\n",
       "      <th>0</th>\n",
       "      <td>2011</td>\n",
       "      <td>122364</td>\n",
       "      <td>385599</td>\n",
       "      <td>0</td>\n",
       "      <td>0</td>\n",
       "      <td>0</td>\n",
       "      <td>0</td>\n",
       "      <td>0</td>\n",
       "      <td>0</td>\n",
       "      <td>0</td>\n",
       "      <td>...</td>\n",
       "      <td>1</td>\n",
       "      <td>0</td>\n",
       "      <td>0</td>\n",
       "      <td>0</td>\n",
       "      <td>0</td>\n",
       "      <td>0</td>\n",
       "      <td>0</td>\n",
       "      <td>1</td>\n",
       "      <td>0</td>\n",
       "      <td>0</td>\n",
       "    </tr>\n",
       "    <tr>\n",
       "      <th>1</th>\n",
       "      <td>2013</td>\n",
       "      <td>14047</td>\n",
       "      <td>383999</td>\n",
       "      <td>0</td>\n",
       "      <td>0</td>\n",
       "      <td>0</td>\n",
       "      <td>0</td>\n",
       "      <td>0</td>\n",
       "      <td>0</td>\n",
       "      <td>0</td>\n",
       "      <td>...</td>\n",
       "      <td>0</td>\n",
       "      <td>0</td>\n",
       "      <td>0</td>\n",
       "      <td>0</td>\n",
       "      <td>0</td>\n",
       "      <td>0</td>\n",
       "      <td>0</td>\n",
       "      <td>1</td>\n",
       "      <td>0</td>\n",
       "      <td>0</td>\n",
       "    </tr>\n",
       "  </tbody>\n",
       "</table>\n",
       "<p>2 rows × 157 columns</p>\n",
       "</div>"
      ],
      "text/plain": [
       "   Make_Year     Kms   Price  Brand_BMW  Brand_Datsun  Brand_Fiat  Brand_Ford  \\\n",
       "0       2011  122364  385599          0             0           0           0   \n",
       "1       2013   14047  383999          0             0           0           0   \n",
       "\n",
       "   Brand_Honda  Brand_Hyundai  Brand_Jaguar  ...  Variant_Petrol + CNG  \\\n",
       "0            0              0             0  ...                     1   \n",
       "1            0              0             0  ...                     0   \n",
       "\n",
       "   Variant_Petrol + Ev  Variant_Petrol + LPG  City_Chennai  City_Gurgaon  \\\n",
       "0                    0                     0             0             0   \n",
       "1                    0                     0             0             0   \n",
       "\n",
       "   City_Hyderabad  City_Kolkata  City_Mumbai  City_Noida  City_Pune  \n",
       "0               0             0            1           0          0  \n",
       "1               0             0            1           0          0  \n",
       "\n",
       "[2 rows x 157 columns]"
      ]
     },
     "execution_count": 26,
     "metadata": {},
     "output_type": "execute_result"
    }
   ],
   "source": [
    "# Using Dummy variable can also use Label Encoding\n",
    "data=pd.get_dummies(data,drop_first=True)\n",
    "data.head(2)"
   ]
  },
  {
   "cell_type": "markdown",
   "id": "8d153d4d",
   "metadata": {},
   "source": [
    "# Feature Engineering"
   ]
  },
  {
   "cell_type": "code",
   "execution_count": 27,
   "id": "9d1dbacf",
   "metadata": {},
   "outputs": [],
   "source": [
    "data['Age of the vehicle']=2022-data['Make_Year']\n"
   ]
  },
  {
   "cell_type": "code",
   "execution_count": 28,
   "id": "2cf607d3",
   "metadata": {},
   "outputs": [
    {
     "data": {
      "text/plain": [
       "(3591, 158)"
      ]
     },
     "execution_count": 28,
     "metadata": {},
     "output_type": "execute_result"
    }
   ],
   "source": [
    "# Removing Duplicates\n",
    "data=data.drop_duplicates()\n",
    "data.shape"
   ]
  },
  {
   "cell_type": "code",
   "execution_count": 29,
   "id": "174ff462",
   "metadata": {},
   "outputs": [],
   "source": [
    "# Splitting Dependent and Independent Variable\n",
    "features = data.drop([\"Price\",'Make_Year'],axis=1)\n",
    "target = data[\"Price\"]"
   ]
  },
  {
   "cell_type": "markdown",
   "id": "2718d144",
   "metadata": {},
   "source": [
    "# Model Function"
   ]
  },
  {
   "cell_type": "code",
   "execution_count": 30,
   "id": "d4aae3fd",
   "metadata": {},
   "outputs": [],
   "source": [
    "#Importing necessary libraries\n",
    "from sklearn import datasets, linear_model, metrics\n",
    "from sklearn import preprocessing\n",
    "from sklearn.model_selection import train_test_split\n",
    "from sklearn.metrics import r2_score,mean_squared_error,mean_absolute_error\n",
    "from sklearn.ensemble import RandomForestRegressor\n",
    "from sklearn.linear_model import LinearRegression\n",
    "from sklearn.metrics import classification_report\n",
    "from sklearn.model_selection import cross_val_score\n",
    "from sklearn import metrics\n",
    "from sklearn.model_selection import GridSearchCV\n",
    "from sklearn.linear_model import Lasso,Ridge\n",
    "from xgboost.sklearn import XGBRegressor\n",
    "from sklearn.model_selection import train_test_split\n",
    "import warnings\n",
    "warnings.filterwarnings(\"ignore\")\n",
    "\n",
    "def model_building(Features,target,model):\n",
    "    Maximum_Accuracy=0\n",
    "\n",
    "    test_size=[0.2,0.25,0.3]\n",
    "\n",
    "    for j in test_size:\n",
    "        for i in range(100):\n",
    "            x_train, x_test, y_train, y_test = train_test_split(Features, target, test_size=j,\n",
    "                                                          random_state=i)\n",
    "\n",
    "        model.fit(x_train,y_train)\n",
    "        pred= model.predict(x_test)\n",
    "        acc=r2_score(y_test,pred)\n",
    "        check=model.predict(x_train)\n",
    "        check_acc=r2_score(y_train,check)\n",
    "\n",
    "        if acc>Maximum_Accuracy:\n",
    "            Maximum_Accuracy=acc\n",
    "            print(\"R-square\",Maximum_Accuracy,\"Train set R Squared\",check_acc,'Random state',i,'test_size',j)"
   ]
  },
  {
   "cell_type": "markdown",
   "id": "97bb8fd7",
   "metadata": {},
   "source": [
    "# LINEAR REGRESSION"
   ]
  },
  {
   "cell_type": "code",
   "execution_count": 31,
   "id": "8171abb2",
   "metadata": {},
   "outputs": [
    {
     "name": "stdout",
     "output_type": "stream",
     "text": [
      "R-square 0.9170458064034965 Train set R Squared 0.9367935750233971 Random state 99 test_size 0.2\n"
     ]
    }
   ],
   "source": [
    "model_building(features,target,LinearRegression())"
   ]
  },
  {
   "cell_type": "code",
   "execution_count": 32,
   "id": "9c58a70c",
   "metadata": {},
   "outputs": [
    {
     "name": "stdout",
     "output_type": "stream",
     "text": [
      "0.938205055122747\n",
      "MSE: 11874467741.008944\n",
      "MAE: 73961.48417445632\n",
      "r2_score: 0.9120526186841148\n",
      "RMSE Score 108970.03138940973\n"
     ]
    }
   ],
   "source": [
    "# creating empty list that will help us in the end to judge the best model\n",
    "model_name=[]\n",
    "mse=[]\n",
    "mae=[]\n",
    "R_sq=[]\n",
    "rmse=[]\n",
    "x_train, x_test, y_train, y_test = train_test_split(features, target, test_size=0.25,random_state=99)\n",
    "lr=LinearRegression()\n",
    "lr.fit(x_train,y_train)\n",
    "lr_pred=lr.predict(x_test)\n",
    "print(lr.score(x_train,y_train))\n",
    "print('MSE:',mean_squared_error(lr_pred,y_test))\n",
    "print('MAE:',mean_absolute_error(lr_pred,y_test))\n",
    "print('r2_score:',r2_score(lr_pred,y_test))\n",
    "print('RMSE Score',np.sqrt(metrics.mean_squared_error(y_test,lr_pred)))\n"
   ]
  },
  {
   "cell_type": "code",
   "execution_count": 33,
   "id": "3cdcff3d",
   "metadata": {},
   "outputs": [
    {
     "data": {
      "text/plain": [
       "<matplotlib.collections.PathCollection at 0x1625b62ffa0>"
      ]
     },
     "execution_count": 33,
     "metadata": {},
     "output_type": "execute_result"
    },
    {
     "data": {
      "image/png": "[encoded data removed]",
      "text/plain": [
       "<Figure size 432x288 with 1 Axes>"
      ]
     },
     "metadata": {
      "needs_background": "light"
     },
     "output_type": "display_data"
    }
   ],
   "source": [
    "mse.append(mean_squared_error(lr_pred,y_test))\n",
    "mae.append(mean_absolute_error(lr_pred,y_test))\n",
    "R_sq.append(r2_score(lr_pred,y_test))\n",
    "model_name.append(\"linear_regression\")\n",
    "rmse.append(np.sqrt(metrics.mean_squared_error(y_test,lr_pred)))\n",
    "plt.scatter(x=y_test,y=lr_pred)"
   ]
  },
  {
   "cell_type": "markdown",
   "id": "c3d46d65",
   "metadata": {},
   "source": [
    "# RIDGE REGRESSION"
   ]
  },
  {
   "cell_type": "code",
   "execution_count": 34,
   "id": "f5dc7ddf",
   "metadata": {},
   "outputs": [
    {
     "name": "stdout",
     "output_type": "stream",
     "text": [
      "R-square 0.91670521508989 Train set R Squared 0.9322957774214293 Random state 99 test_size 0.2\n"
     ]
    }
   ],
   "source": [
    "model_building(features,target,Ridge())"
   ]
  },
  {
   "cell_type": "code",
   "execution_count": 36,
   "id": "61d666cc",
   "metadata": {},
   "outputs": [
    {
     "name": "stdout",
     "output_type": "stream",
     "text": [
      "{'alpha': 0.01, 'solver': 'auto'}\n"
     ]
    }
   ],
   "source": [
    "x_train, x_test, y_train, y_test = train_test_split(features, target, test_size=0.2,random_state=99)\n",
    "parameters={\"alpha\":[1e-15,1e-10,1e-8,1e-3,1e-2,1,5,10,20,30,35,40,45,50,55,100],'solver':['auto','svd','cholesky','lsqr']}\n",
    "ridge=Ridge()\n",
    "RR=GridSearchCV(ridge,parameters,scoring='neg_mean_squared_error')\n",
    "RR.fit(x_train,y_train)\n",
    "print(RR.best_params_)"
   ]
  },
  {
   "cell_type": "code",
   "execution_count": 37,
   "id": "1aec9fb7",
   "metadata": {},
   "outputs": [
    {
     "name": "stdout",
     "output_type": "stream",
     "text": [
      "R2_score: 0.9170897898944385\n",
      "mse: 11519900478.867067\n",
      "mae: 72941.3592562054\n",
      "rmse: 107330.79930228353\n"
     ]
    },
    {
     "data": {
      "text/plain": [
       "<matplotlib.collections.PathCollection at 0x1624a009b50>"
      ]
     },
     "execution_count": 37,
     "metadata": {},
     "output_type": "execute_result"
    },
    {
     "data": {
      "image/png": "[encoded data removed]",
      "text/plain": [
       "<Figure size 432x288 with 1 Axes>"
      ]
     },
     "metadata": {
      "needs_background": "light"
     },
     "output_type": "display_data"
    }
   ],
   "source": [
    "rr=Ridge(alpha=0.01,solver='auto')\n",
    "rr.fit(x_train,y_train)\n",
    "rr_pred=rr.predict(x_test)\n",
    "print('R2_score:',r2_score(y_test,rr_pred))\n",
    "print('mse:',metrics.mean_squared_error(y_test,rr_pred))\n",
    "print('mae:',metrics.mean_absolute_error(y_test,rr_pred))\n",
    "print('rmse:',np.sqrt(metrics.mean_squared_error(y_test,rr_pred)))\n",
    "mse.append(mean_squared_error(rr_pred,y_test))\n",
    "mae.append(mean_absolute_error(rr_pred,y_test))\n",
    "R_sq.append(r2_score(y_test,rr_pred))\n",
    "model_name.append(\"ridge_regression\")\n",
    "rmse.append(np.sqrt(metrics.mean_squared_error(y_test,rr_pred)))\n",
    "plt.scatter(x=y_test,y=rr_pred)\n"
   ]
  },
  {
   "cell_type": "markdown",
   "id": "281742f0",
   "metadata": {},
   "source": [
    "# Lasso Regression"
   ]
  },
  {
   "cell_type": "code",
   "execution_count": 38,
   "id": "1faa875c",
   "metadata": {},
   "outputs": [
    {
     "name": "stdout",
     "output_type": "stream",
     "text": [
      "R-square 0.9171109297616915 Train set R Squared 0.9367927607431981 Random state 99 test_size 0.2\n"
     ]
    }
   ],
   "source": [
    "model_building(features,target,Lasso())"
   ]
  },
  {
   "cell_type": "code",
   "execution_count": 39,
   "id": "c511c4bc",
   "metadata": {},
   "outputs": [
    {
     "name": "stdout",
     "output_type": "stream",
     "text": [
      "{'alpha': 10}\n"
     ]
    }
   ],
   "source": [
    "x_train, x_test, y_train, y_test = train_test_split(features, target, test_size=0.2,random_state=99)\n",
    "parameters={'alpha':[0.0001,0.001,0.01,0.1,1,10]}\n",
    "lasso=Lasso()\n",
    "LS=GridSearchCV(lasso,parameters,scoring='neg_mean_squared_error')\n",
    "LS.fit(x_train,y_train)\n",
    "print(LS.best_params_)"
   ]
  },
  {
   "cell_type": "code",
   "execution_count": 40,
   "id": "925774e8",
   "metadata": {},
   "outputs": [
    {
     "name": "stdout",
     "output_type": "stream",
     "text": [
      "R2_score: 0.9175332326411839\n",
      "mse: 11458286640.184477\n",
      "mae: 72591.632929028\n",
      "rmse: 107043.3867185847\n"
     ]
    },
    {
     "data": {
      "text/plain": [
       "<matplotlib.collections.PathCollection at 0x1624a0c2730>"
      ]
     },
     "execution_count": 40,
     "metadata": {},
     "output_type": "execute_result"
    },
    {
     "data": {
      "image/png": "[encoded data removed]",
      "text/plain": [
       "<Figure size 432x288 with 1 Axes>"
      ]
     },
     "metadata": {
      "needs_background": "light"
     },
     "output_type": "display_data"
    }
   ],
   "source": [
    "ls=Lasso(alpha=10)\n",
    "ls.fit(x_train,y_train)\n",
    "ls_pred=ls.predict(x_test)\n",
    "print('R2_score:',r2_score(y_test,ls_pred))\n",
    "print('mse:',metrics.mean_squared_error(y_test,ls_pred))\n",
    "print('mae:',metrics.mean_absolute_error(y_test,ls_pred))\n",
    "print('rmse:',np.sqrt(metrics.mean_squared_error(y_test,ls_pred)))\n",
    "\n",
    "mse.append(mean_squared_error(ls_pred,y_test))\n",
    "mae.append(mean_absolute_error(ls_pred,y_test))\n",
    "R_sq.append(r2_score(y_test,ls_pred))\n",
    "model_name.append(\"lasso_regression\")\n",
    "rmse.append(np.sqrt(metrics.mean_squared_error(y_test,ls_pred)))\n",
    "plt.scatter(x=y_test,y=ls_pred)\n"
   ]
  },
  {
   "cell_type": "markdown",
   "id": "703891d7",
   "metadata": {},
   "source": [
    "# Xgboost Regressor"
   ]
  },
  {
   "cell_type": "code",
   "execution_count": 41,
   "id": "5ea19748",
   "metadata": {},
   "outputs": [
    {
     "name": "stdout",
     "output_type": "stream",
     "text": [
      "R-square 0.9289885657785146 Train set R Squared 0.9784743039298281 Random state 99 test_size 0.2\n"
     ]
    }
   ],
   "source": [
    "model_building(features,target,XGBRegressor(objective ='reg:linear', verbosity = 0, random_state=42))"
   ]
  },
  {
   "cell_type": "code",
   "execution_count": 42,
   "id": "a6ad5385",
   "metadata": {},
   "outputs": [
    {
     "name": "stdout",
     "output_type": "stream",
     "text": [
      "{'colsample_bylevel': 0.5, 'learning_rate': 0.2, 'max_depth': 5, 'n_estimators': 500, 'objective': 'reg:linear'}\n"
     ]
    }
   ],
   "source": [
    "x_train, x_test, y_train, y_test = train_test_split(features, target, test_size=0.2,random_state=99)\n",
    "xgb1 = XGBRegressor(verbosity = 0, random_state=42)\n",
    "parameters ={\n",
    "        'objective':['reg:linear'],\n",
    "         'max_depth': [1,2,3,4,5,6,7,8,9,10],\n",
    "         'colsample_bylevel':[0.2,0.5,0.6,1],\n",
    "         'learning_rate':[0.01,0.1,0.3,0.2,1],\n",
    "         'n_estimators':[100,150,200,500]\n",
    "                    }\n",
    "\n",
    "xgb_grid = GridSearchCV(xgb1,parameters,cv=3)\n",
    "\n",
    "xgb_grid.fit(x_train, y_train)\n",
    "print(xgb_grid.best_params_)"
   ]
  },
  {
   "cell_type": "code",
   "execution_count": 44,
   "id": "c4dc42e2",
   "metadata": {},
   "outputs": [
    {
     "name": "stdout",
     "output_type": "stream",
     "text": [
      "R2_score: 0.945101704035153\n",
      "mse: 7627804888.797454\n",
      "mae: 54075.23846053547\n",
      "rmse: 87337.30525266654\n"
     ]
    },
    {
     "data": {
      "text/plain": [
       "<matplotlib.collections.PathCollection at 0x1624a16dca0>"
      ]
     },
     "execution_count": 44,
     "metadata": {},
     "output_type": "execute_result"
    },
    {
     "data": {
      "image/png": "[encoded data removed]",
      "text/plain": [
       "<Figure size 432x288 with 1 Axes>"
      ]
     },
     "metadata": {
      "needs_background": "light"
     },
     "output_type": "display_data"
    }
   ],
   "source": [
    "x_train, x_test, y_train, y_test = train_test_split(features, target, test_size=0.2,random_state=99)\n",
    "Xg=XGBRegressor(objective ='reg:linear',verbosity= 0, random_state=42, colsample_bylevel=0.5,learning_rate=0.2,max_depth= 5,n_estimators=500)\n",
    "Xg.fit(x_train,y_train)\n",
    "Xg_pred=Xg.predict(x_test)\n",
    "print('R2_score:',r2_score(y_test,Xg_pred))\n",
    "print('mse:',metrics.mean_squared_error(y_test,Xg_pred))\n",
    "print('mae:',metrics.mean_absolute_error(y_test,Xg_pred))\n",
    "print('rmse:',np.sqrt(metrics.mean_squared_error(y_test,Xg_pred)))\n",
    "\n",
    "mse.append(mean_squared_error(Xg_pred,y_test))\n",
    "mae.append(mean_absolute_error(Xg_pred,y_test))\n",
    "R_sq.append(r2_score(y_test,Xg_pred))\n",
    "model_name.append(\"XGboost_regression\")\n",
    "rmse.append(np.sqrt(metrics.mean_squared_error(y_test,Xg_pred)))\n",
    "plt.scatter(x=y_test,y=Xg_pred)"
   ]
  },
  {
   "cell_type": "markdown",
   "id": "faf7d561",
   "metadata": {},
   "source": [
    "# RANDOM FOREST"
   ]
  },
  {
   "cell_type": "code",
   "execution_count": 43,
   "id": "da23b149",
   "metadata": {},
   "outputs": [
    {
     "name": "stdout",
     "output_type": "stream",
     "text": [
      "R-square 0.928440693145844 Train set R Squared 0.9893723709466444 Random state 99 test_size 0.2\n"
     ]
    }
   ],
   "source": [
    "model_building(features,target,RandomForestRegressor())"
   ]
  },
  {
   "cell_type": "code",
   "execution_count": 46,
   "id": "55c49d51",
   "metadata": {},
   "outputs": [
    {
     "name": "stdout",
     "output_type": "stream",
     "text": [
      "{'bootstrap': True, 'min_samples_split': 2, 'n_estimators': 1500}\n"
     ]
    }
   ],
   "source": [
    "x_train, x_test, y_train, y_test = train_test_split(features, target, test_size=0.2,random_state=99)\n",
    "model=RandomForestRegressor()\n",
    "param_grid = { \"n_estimators\"   : [500,1000,1500],\n",
    "              \"min_samples_split\" : [2,4,8],\n",
    "             \"bootstrap\": [True, False]\n",
    "            }\n",
    "grid = GridSearchCV(model, param_grid, n_jobs=-1, cv=5)\n",
    "grid.fit(x_train,y_train)\n",
    "print(grid.best_params_)"
   ]
  },
  {
   "cell_type": "code",
   "execution_count": 47,
   "id": "9bdf6d19",
   "metadata": {},
   "outputs": [
    {
     "name": "stdout",
     "output_type": "stream",
     "text": [
      "R2_score: 0.929418638480339\n",
      "mse: 9806877335.54411\n",
      "mae: 60269.63495224849\n",
      "rmse: 99029.67906412759\n"
     ]
    },
    {
     "data": {
      "text/plain": [
       "<matplotlib.collections.PathCollection at 0x1625dd30040>"
      ]
     },
     "execution_count": 47,
     "metadata": {},
     "output_type": "execute_result"
    },
    {
     "data": {
      "image/png": "[encoded data removed]",
      "text/plain": [
       "<Figure size 432x288 with 1 Axes>"
      ]
     },
     "metadata": {
      "needs_background": "light"
     },
     "output_type": "display_data"
    }
   ],
   "source": [
    "RF=RandomForestRegressor(n_estimators= 1500,bootstrap= True,min_samples_split=2,)\n",
    "RF.fit(x_train,y_train)\n",
    "RF_pred=RF.predict(x_test)\n",
    "print('R2_score:',r2_score(y_test,RF_pred))\n",
    "print('mse:',metrics.mean_squared_error(y_test,RF_pred))\n",
    "print('mae:',metrics.mean_absolute_error(y_test,RF_pred))\n",
    "print('rmse:',np.sqrt(metrics.mean_squared_error(y_test,RF_pred)))\n",
    "\n",
    "mse.append(mean_squared_error(RF_pred,y_test))\n",
    "mae.append(mean_absolute_error(RF_pred,y_test))\n",
    "R_sq.append(r2_score(y_test,RF_pred))\n",
    "model_name.append(\"Random_forest_regression\")\n",
    "rmse.append(np.sqrt(metrics.mean_squared_error(y_test,RF_pred)))\n",
    "plt.scatter(x=y_test,y=RF_pred)"
   ]
  },
  {
   "cell_type": "code",
   "execution_count": 48,
   "id": "a7d5e9ea",
   "metadata": {},
   "outputs": [
    {
     "data": {
      "text/html": [
       "<div>\n",
       "<style scoped>\n",
       "    .dataframe tbody tr th:only-of-type {\n",
       "        vertical-align: middle;\n",
       "    }\n",
       "\n",
       "    .dataframe tbody tr th {\n",
       "        vertical-align: top;\n",
       "    }\n",
       "\n",
       "    .dataframe thead th {\n",
       "        text-align: right;\n",
       "    }\n",
       "</style>\n",
       "<table border=\"1\" class=\"dataframe\">\n",
       "  <thead>\n",
       "    <tr style=\"text-align: right;\">\n",
       "      <th></th>\n",
       "      <th>Model</th>\n",
       "      <th>Mean_Sq_Error</th>\n",
       "      <th>Mean_Absolute_Error</th>\n",
       "      <th>Root Mean Squared Error</th>\n",
       "      <th>R_sq</th>\n",
       "    </tr>\n",
       "  </thead>\n",
       "  <tbody>\n",
       "    <tr>\n",
       "      <th>0</th>\n",
       "      <td>linear_regression</td>\n",
       "      <td>1.187447e+10</td>\n",
       "      <td>73961.484174</td>\n",
       "      <td>108970.031389</td>\n",
       "      <td>0.912053</td>\n",
       "    </tr>\n",
       "    <tr>\n",
       "      <th>1</th>\n",
       "      <td>ridge_regression</td>\n",
       "      <td>1.151990e+10</td>\n",
       "      <td>72941.359256</td>\n",
       "      <td>107330.799302</td>\n",
       "      <td>0.917090</td>\n",
       "    </tr>\n",
       "    <tr>\n",
       "      <th>2</th>\n",
       "      <td>lasso_regression</td>\n",
       "      <td>1.145829e+10</td>\n",
       "      <td>72591.632929</td>\n",
       "      <td>107043.386719</td>\n",
       "      <td>0.917533</td>\n",
       "    </tr>\n",
       "    <tr>\n",
       "      <th>3</th>\n",
       "      <td>XGboost_regression</td>\n",
       "      <td>7.627805e+09</td>\n",
       "      <td>54075.238461</td>\n",
       "      <td>87337.305253</td>\n",
       "      <td>0.945102</td>\n",
       "    </tr>\n",
       "    <tr>\n",
       "      <th>4</th>\n",
       "      <td>Random_forest_regression</td>\n",
       "      <td>9.806877e+09</td>\n",
       "      <td>60269.634952</td>\n",
       "      <td>99029.679064</td>\n",
       "      <td>0.929419</td>\n",
       "    </tr>\n",
       "  </tbody>\n",
       "</table>\n",
       "</div>"
      ],
      "text/plain": [
       "                      Model  Mean_Sq_Error  Mean_Absolute_Error  \\\n",
       "0         linear_regression   1.187447e+10         73961.484174   \n",
       "1          ridge_regression   1.151990e+10         72941.359256   \n",
       "2          lasso_regression   1.145829e+10         72591.632929   \n",
       "3        XGboost_regression   7.627805e+09         54075.238461   \n",
       "4  Random_forest_regression   9.806877e+09         60269.634952   \n",
       "\n",
       "   Root Mean Squared Error      R_sq  \n",
       "0            108970.031389  0.912053  \n",
       "1            107330.799302  0.917090  \n",
       "2            107043.386719  0.917533  \n",
       "3             87337.305253  0.945102  \n",
       "4             99029.679064  0.929419  "
      ]
     },
     "execution_count": 48,
     "metadata": {},
     "output_type": "execute_result"
    }
   ],
   "source": [
    "# comparision\n",
    "data = list(zip(model_name,mse,mae,rmse,R_sq))                                           \n",
    "df = pd.DataFrame(data,columns=[\"Model\",\"Mean_Sq_Error\",\"Mean_Absolute_Error\",\"Root Mean Squared Error\",'R_sq'])                    #Creating DataFrame    \n",
    "df"
   ]
  },
  {
   "cell_type": "markdown",
   "id": "90f5f7cd",
   "metadata": {},
   "source": [
    "# Pickle file of the model"
   ]
  },
  {
   "cell_type": "code",
   "execution_count": 49,
   "id": "e879c909",
   "metadata": {},
   "outputs": [
    {
     "data": {
      "text/html": [
       "<div>\n",
       "<style scoped>\n",
       "    .dataframe tbody tr th:only-of-type {\n",
       "        vertical-align: middle;\n",
       "    }\n",
       "\n",
       "    .dataframe tbody tr th {\n",
       "        vertical-align: top;\n",
       "    }\n",
       "\n",
       "    .dataframe thead th {\n",
       "        text-align: right;\n",
       "    }\n",
       "</style>\n",
       "<table border=\"1\" class=\"dataframe\">\n",
       "  <thead>\n",
       "    <tr style=\"text-align: right;\">\n",
       "      <th></th>\n",
       "      <th>0</th>\n",
       "      <th>1</th>\n",
       "      <th>2</th>\n",
       "      <th>3</th>\n",
       "      <th>4</th>\n",
       "      <th>5</th>\n",
       "      <th>6</th>\n",
       "      <th>7</th>\n",
       "      <th>8</th>\n",
       "      <th>9</th>\n",
       "      <th>...</th>\n",
       "      <th>709</th>\n",
       "      <th>710</th>\n",
       "      <th>711</th>\n",
       "      <th>712</th>\n",
       "      <th>713</th>\n",
       "      <th>714</th>\n",
       "      <th>715</th>\n",
       "      <th>716</th>\n",
       "      <th>717</th>\n",
       "      <th>718</th>\n",
       "    </tr>\n",
       "  </thead>\n",
       "  <tbody>\n",
       "    <tr>\n",
       "      <th>Predicted</th>\n",
       "      <td>863447.125</td>\n",
       "      <td>1854672.375</td>\n",
       "      <td>440160.5625</td>\n",
       "      <td>696143.875</td>\n",
       "      <td>663312.25</td>\n",
       "      <td>573172.3125</td>\n",
       "      <td>459976.34375</td>\n",
       "      <td>335138.34375</td>\n",
       "      <td>372121.1875</td>\n",
       "      <td>595040.6875</td>\n",
       "      <td>...</td>\n",
       "      <td>567116.0</td>\n",
       "      <td>1666002.5</td>\n",
       "      <td>635507.25</td>\n",
       "      <td>1582453.125</td>\n",
       "      <td>622438.125</td>\n",
       "      <td>257197.109375</td>\n",
       "      <td>1099100.25</td>\n",
       "      <td>437661.5</td>\n",
       "      <td>350908.65625</td>\n",
       "      <td>276961.875</td>\n",
       "    </tr>\n",
       "    <tr>\n",
       "      <th>Original</th>\n",
       "      <td>784799.000</td>\n",
       "      <td>2012799.000</td>\n",
       "      <td>426699.0000</td>\n",
       "      <td>697799.000</td>\n",
       "      <td>683899.00</td>\n",
       "      <td>707499.0000</td>\n",
       "      <td>501099.00000</td>\n",
       "      <td>341699.00000</td>\n",
       "      <td>376099.0000</td>\n",
       "      <td>612199.0000</td>\n",
       "      <td>...</td>\n",
       "      <td>549799.0</td>\n",
       "      <td>1521199.0</td>\n",
       "      <td>533699.00</td>\n",
       "      <td>1557099.000</td>\n",
       "      <td>594099.000</td>\n",
       "      <td>282899.000000</td>\n",
       "      <td>1068999.00</td>\n",
       "      <td>428899.0</td>\n",
       "      <td>351399.00000</td>\n",
       "      <td>291599.000</td>\n",
       "    </tr>\n",
       "  </tbody>\n",
       "</table>\n",
       "<p>2 rows × 719 columns</p>\n",
       "</div>"
      ],
      "text/plain": [
       "                  0            1            2           3          4    \\\n",
       "Predicted  863447.125  1854672.375  440160.5625  696143.875  663312.25   \n",
       "Original   784799.000  2012799.000  426699.0000  697799.000  683899.00   \n",
       "\n",
       "                   5             6             7            8            9    \\\n",
       "Predicted  573172.3125  459976.34375  335138.34375  372121.1875  595040.6875   \n",
       "Original   707499.0000  501099.00000  341699.00000  376099.0000  612199.0000   \n",
       "\n",
       "           ...       709        710        711          712         713  \\\n",
       "Predicted  ...  567116.0  1666002.5  635507.25  1582453.125  622438.125   \n",
       "Original   ...  549799.0  1521199.0  533699.00  1557099.000  594099.000   \n",
       "\n",
       "                     714         715       716           717         718  \n",
       "Predicted  257197.109375  1099100.25  437661.5  350908.65625  276961.875  \n",
       "Original   282899.000000  1068999.00  428899.0  351399.00000  291599.000  \n",
       "\n",
       "[2 rows x 719 columns]"
      ]
     },
     "execution_count": 49,
     "metadata": {},
     "output_type": "execute_result"
    }
   ],
   "source": [
    "import pickle\n",
    "\n",
    "#saved the trained model in file with given name\n",
    "pickle_out = open(\"car_price.pkl\",\"wb\") # name of my pickle file , wb -write\n",
    "pickle.dump(Xg, pickle_out)\n",
    "pickle_out.close()\n",
    "\n",
    "# loading the pickeled model\n",
    "pickle_in = open(\"car_price.pkl\",\"rb\") # rb -> read the pickel file\n",
    "trained_model = pickle.load(pickle_in)\n",
    "pd.DataFrame([trained_model.predict(x_test)[:],y_test[:]],index=[\"Predicted\",\"Original\"])\n"
   ]
  },
  {
   "cell_type": "markdown",
   "id": "04891534",
   "metadata": {},
   "source": [
    "# Case study Completed\n",
    "# The price can be predicted more accurately if the condition of the car was known"
   ]
  },
  {
   "cell_type": "code",
   "execution_count": null,
   "id": "305d98af",
   "metadata": {},
   "outputs": [],
   "source": []
  }
 ],
 "metadata": {
  "kernelspec": {
   "display_name": "Python 3 (ipykernel)",
   "language": "python",
   "name": "python3"
  },
  "language_info": {
   "codemirror_mode": {
    "name": "ipython",
    "version": 3
   },
   "file_extension": ".py",
   "mimetype": "text/x-python",
   "name": "python",
   "nbconvert_exporter": "python",
   "pygments_lexer": "ipython3",
   "version": "3.9.12"
  }
 },
 "nbformat": 4,
 "nbformat_minor": 5
}
