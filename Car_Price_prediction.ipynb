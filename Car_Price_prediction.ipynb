{
  "cells": [
    {
      "cell_type": "markdown",
      "id": "6b37733b",
      "metadata": {
        "id": "6b37733b"
      },
      "source": [
        "## Predict the price of cars in the data scrapped"
      ]
    },
    {
      "cell_type": "code",
      "execution_count": 1,
      "id": "6c29c010",
      "metadata": {
        "id": "6c29c010"
      },
      "outputs": [],
      "source": [
        "# Importing Libraries\n",
        "import pandas as pd\n",
        "import numpy as np\n",
        "import warnings\n",
        "import seaborn as sns\n",
        "import matplotlib.pyplot as plt\n",
        "warnings.filterwarnings('ignore')"
      ]
    },
    {
      "cell_type": "code",
      "execution_count": 2,
      "id": "c40a99c7",
      "metadata": {
        "colab": {
          "base_uri": "https://localhost:8080/",
          "height": 641
        },
        "id": "c40a99c7",
        "outputId": "f1db81b8-190d-4e46-a493-e5d2ad54a3f8"
      },
      "outputs": [
        {
          "output_type": "execute_result",
          "data": {
            "text/plain": [
              "      Make_Year                  Brand                         Model  \\\n",
              "0          2019          Hyundai Verna        1.6 SX VTVT (O) Manual   \n",
              "1          2014  Mercedes Benz C Class    C 200 AVANTGARDE Automatic   \n",
              "2          2020             KIA SELTOS     GTX + AT PETROL Automatic   \n",
              "3          2013      Hyundai Grand i10  SPORTZ 1.2 KAPPA VTVT Manual   \n",
              "4          2020             KIA SELTOS      HTX 1.5 PETROL MT Manual   \n",
              "...         ...                    ...                           ...   \n",
              "4244       2013             Honda Brio        1.2 V MT I VTEC Manual   \n",
              "4245       2017             Honda City       VX CVT PETROL Automatic   \n",
              "4246       2014          Hyundai Verna    FLUIDIC 1.4 VTVT CX Manual   \n",
              "4247       2015           Maruti Swift      VXI Glory edition Manual   \n",
              "4248       2011            Maruti Ritz                    VXI Manual   \n",
              "\n",
              "     Transmission        Kms      Owner Variant       City           Price  \n",
              "0          Manual  81,902 km  1st Owner  Petrol  New Delhi   ['₹9,81,699']  \n",
              "1       Automatic  37,531 km  1st Owner  Petrol  New Delhi  ['₹20,53,699']  \n",
              "2       Automatic   8,241 km  1st Owner  Petrol  New Delhi  ['₹19,06,399']  \n",
              "3          Manual  10,558 km  1st Owner  Petrol  New Delhi   ['₹4,00,099']  \n",
              "4          Manual  32,799 km  1st Owner  Petrol  New Delhi  ['₹13,75,499']  \n",
              "...           ...        ...        ...     ...        ...             ...  \n",
              "4244       Manual  57,427 km  1st Owner  Petrol  Bengaluru   ['₹4,18,799']  \n",
              "4245    Automatic  57,854 km  1st Owner  Petrol  Bengaluru   ['₹9,54,799']  \n",
              "4246       Manual  74,519 km  1st Owner  Petrol  Bengaluru   ['₹5,67,899']  \n",
              "4247       Manual  40,107 km  1st Owner  Petrol  Bengaluru   ['₹4,99,690']  \n",
              "4248       Manual  40,032 km  1st Owner  Petrol  Bengaluru   ['₹3,64,870']  \n",
              "\n",
              "[4249 rows x 9 columns]"
            ],
            "text/html": [
              "\n",
              "  <div id=\"df-bf4ce658-5054-4dfa-ad28-6e6c7c6d3a0d\">\n",
              "    <div class=\"colab-df-container\">\n",
              "      <div>\n",
              "<style scoped>\n",
              "    .dataframe tbody tr th:only-of-type {\n",
              "        vertical-align: middle;\n",
              "    }\n",
              "\n",
              "    .dataframe tbody tr th {\n",
              "        vertical-align: top;\n",
              "    }\n",
              "\n",
              "    .dataframe thead th {\n",
              "        text-align: right;\n",
              "    }\n",
              "</style>\n",
              "<table border=\"1\" class=\"dataframe\">\n",
              "  <thead>\n",
              "    <tr style=\"text-align: right;\">\n",
              "      <th></th>\n",
              "      <th>Make_Year</th>\n",
              "      <th>Brand</th>\n",
              "      <th>Model</th>\n",
              "      <th>Transmission</th>\n",
              "      <th>Kms</th>\n",
              "      <th>Owner</th>\n",
              "      <th>Variant</th>\n",
              "      <th>City</th>\n",
              "      <th>Price</th>\n",
              "    </tr>\n",
              "  </thead>\n",
              "  <tbody>\n",
              "    <tr>\n",
              "      <th>0</th>\n",
              "      <td>2019</td>\n",
              "      <td>Hyundai Verna</td>\n",
              "      <td>1.6 SX VTVT (O) Manual</td>\n",
              "      <td>Manual</td>\n",
              "      <td>81,902 km</td>\n",
              "      <td>1st Owner</td>\n",
              "      <td>Petrol</td>\n",
              "      <td>New Delhi</td>\n",
              "      <td>['₹9,81,699']</td>\n",
              "    </tr>\n",
              "    <tr>\n",
              "      <th>1</th>\n",
              "      <td>2014</td>\n",
              "      <td>Mercedes Benz C Class</td>\n",
              "      <td>C 200 AVANTGARDE Automatic</td>\n",
              "      <td>Automatic</td>\n",
              "      <td>37,531 km</td>\n",
              "      <td>1st Owner</td>\n",
              "      <td>Petrol</td>\n",
              "      <td>New Delhi</td>\n",
              "      <td>['₹20,53,699']</td>\n",
              "    </tr>\n",
              "    <tr>\n",
              "      <th>2</th>\n",
              "      <td>2020</td>\n",
              "      <td>KIA SELTOS</td>\n",
              "      <td>GTX + AT PETROL Automatic</td>\n",
              "      <td>Automatic</td>\n",
              "      <td>8,241 km</td>\n",
              "      <td>1st Owner</td>\n",
              "      <td>Petrol</td>\n",
              "      <td>New Delhi</td>\n",
              "      <td>['₹19,06,399']</td>\n",
              "    </tr>\n",
              "    <tr>\n",
              "      <th>3</th>\n",
              "      <td>2013</td>\n",
              "      <td>Hyundai Grand i10</td>\n",
              "      <td>SPORTZ 1.2 KAPPA VTVT Manual</td>\n",
              "      <td>Manual</td>\n",
              "      <td>10,558 km</td>\n",
              "      <td>1st Owner</td>\n",
              "      <td>Petrol</td>\n",
              "      <td>New Delhi</td>\n",
              "      <td>['₹4,00,099']</td>\n",
              "    </tr>\n",
              "    <tr>\n",
              "      <th>4</th>\n",
              "      <td>2020</td>\n",
              "      <td>KIA SELTOS</td>\n",
              "      <td>HTX 1.5 PETROL MT Manual</td>\n",
              "      <td>Manual</td>\n",
              "      <td>32,799 km</td>\n",
              "      <td>1st Owner</td>\n",
              "      <td>Petrol</td>\n",
              "      <td>New Delhi</td>\n",
              "      <td>['₹13,75,499']</td>\n",
              "    </tr>\n",
              "    <tr>\n",
              "      <th>...</th>\n",
              "      <td>...</td>\n",
              "      <td>...</td>\n",
              "      <td>...</td>\n",
              "      <td>...</td>\n",
              "      <td>...</td>\n",
              "      <td>...</td>\n",
              "      <td>...</td>\n",
              "      <td>...</td>\n",
              "      <td>...</td>\n",
              "    </tr>\n",
              "    <tr>\n",
              "      <th>4244</th>\n",
              "      <td>2013</td>\n",
              "      <td>Honda Brio</td>\n",
              "      <td>1.2 V MT I VTEC Manual</td>\n",
              "      <td>Manual</td>\n",
              "      <td>57,427 km</td>\n",
              "      <td>1st Owner</td>\n",
              "      <td>Petrol</td>\n",
              "      <td>Bengaluru</td>\n",
              "      <td>['₹4,18,799']</td>\n",
              "    </tr>\n",
              "    <tr>\n",
              "      <th>4245</th>\n",
              "      <td>2017</td>\n",
              "      <td>Honda City</td>\n",
              "      <td>VX CVT PETROL Automatic</td>\n",
              "      <td>Automatic</td>\n",
              "      <td>57,854 km</td>\n",
              "      <td>1st Owner</td>\n",
              "      <td>Petrol</td>\n",
              "      <td>Bengaluru</td>\n",
              "      <td>['₹9,54,799']</td>\n",
              "    </tr>\n",
              "    <tr>\n",
              "      <th>4246</th>\n",
              "      <td>2014</td>\n",
              "      <td>Hyundai Verna</td>\n",
              "      <td>FLUIDIC 1.4 VTVT CX Manual</td>\n",
              "      <td>Manual</td>\n",
              "      <td>74,519 km</td>\n",
              "      <td>1st Owner</td>\n",
              "      <td>Petrol</td>\n",
              "      <td>Bengaluru</td>\n",
              "      <td>['₹5,67,899']</td>\n",
              "    </tr>\n",
              "    <tr>\n",
              "      <th>4247</th>\n",
              "      <td>2015</td>\n",
              "      <td>Maruti Swift</td>\n",
              "      <td>VXI Glory edition Manual</td>\n",
              "      <td>Manual</td>\n",
              "      <td>40,107 km</td>\n",
              "      <td>1st Owner</td>\n",
              "      <td>Petrol</td>\n",
              "      <td>Bengaluru</td>\n",
              "      <td>['₹4,99,690']</td>\n",
              "    </tr>\n",
              "    <tr>\n",
              "      <th>4248</th>\n",
              "      <td>2011</td>\n",
              "      <td>Maruti Ritz</td>\n",
              "      <td>VXI Manual</td>\n",
              "      <td>Manual</td>\n",
              "      <td>40,032 km</td>\n",
              "      <td>1st Owner</td>\n",
              "      <td>Petrol</td>\n",
              "      <td>Bengaluru</td>\n",
              "      <td>['₹3,64,870']</td>\n",
              "    </tr>\n",
              "  </tbody>\n",
              "</table>\n",
              "<p>4249 rows × 9 columns</p>\n",
              "</div>\n",
              "      <button class=\"colab-df-convert\" onclick=\"convertToInteractive('df-bf4ce658-5054-4dfa-ad28-6e6c7c6d3a0d')\"\n",
              "              title=\"Convert this dataframe to an interactive table.\"\n",
              "              style=\"display:none;\">\n",
              "        \n",
              "  <svg xmlns=\"http://www.w3.org/2000/svg\" height=\"24px\"viewBox=\"0 0 24 24\"\n",
              "       width=\"24px\">\n",
              "    <path d=\"M0 0h24v24H0V0z\" fill=\"none\"/>\n",
              "    <path d=\"M18.56 5.44l.94 2.06.94-2.06 2.06-.94-2.06-.94-.94-2.06-.94 2.06-2.06.94zm-11 1L8.5 8.5l.94-2.06 2.06-.94-2.06-.94L8.5 2.5l-.94 2.06-2.06.94zm10 10l.94 2.06.94-2.06 2.06-.94-2.06-.94-.94-2.06-.94 2.06-2.06.94z\"/><path d=\"M17.41 7.96l-1.37-1.37c-.4-.4-.92-.59-1.43-.59-.52 0-1.04.2-1.43.59L10.3 9.45l-7.72 7.72c-.78.78-.78 2.05 0 2.83L4 21.41c.39.39.9.59 1.41.59.51 0 1.02-.2 1.41-.59l7.78-7.78 2.81-2.81c.8-.78.8-2.07 0-2.86zM5.41 20L4 18.59l7.72-7.72 1.47 1.35L5.41 20z\"/>\n",
              "  </svg>\n",
              "      </button>\n",
              "      \n",
              "  <style>\n",
              "    .colab-df-container {\n",
              "      display:flex;\n",
              "      flex-wrap:wrap;\n",
              "      gap: 12px;\n",
              "    }\n",
              "\n",
              "    .colab-df-convert {\n",
              "      background-color: #E8F0FE;\n",
              "      border: none;\n",
              "      border-radius: 50%;\n",
              "      cursor: pointer;\n",
              "      display: none;\n",
              "      fill: #1967D2;\n",
              "      height: 32px;\n",
              "      padding: 0 0 0 0;\n",
              "      width: 32px;\n",
              "    }\n",
              "\n",
              "    .colab-df-convert:hover {\n",
              "      background-color: #E2EBFA;\n",
              "      box-shadow: 0px 1px 2px rgba(60, 64, 67, 0.3), 0px 1px 3px 1px rgba(60, 64, 67, 0.15);\n",
              "      fill: #174EA6;\n",
              "    }\n",
              "\n",
              "    [theme=dark] .colab-df-convert {\n",
              "      background-color: #3B4455;\n",
              "      fill: #D2E3FC;\n",
              "    }\n",
              "\n",
              "    [theme=dark] .colab-df-convert:hover {\n",
              "      background-color: #434B5C;\n",
              "      box-shadow: 0px 1px 3px 1px rgba(0, 0, 0, 0.15);\n",
              "      filter: drop-shadow(0px 1px 2px rgba(0, 0, 0, 0.3));\n",
              "      fill: #FFFFFF;\n",
              "    }\n",
              "  </style>\n",
              "\n",
              "      <script>\n",
              "        const buttonEl =\n",
              "          document.querySelector('#df-bf4ce658-5054-4dfa-ad28-6e6c7c6d3a0d button.colab-df-convert');\n",
              "        buttonEl.style.display =\n",
              "          google.colab.kernel.accessAllowed ? 'block' : 'none';\n",
              "\n",
              "        async function convertToInteractive(key) {\n",
              "          const element = document.querySelector('#df-bf4ce658-5054-4dfa-ad28-6e6c7c6d3a0d');\n",
              "          const dataTable =\n",
              "            await google.colab.kernel.invokeFunction('convertToInteractive',\n",
              "                                                     [key], {});\n",
              "          if (!dataTable) return;\n",
              "\n",
              "          const docLinkHtml = 'Like what you see? Visit the ' +\n",
              "            '<a target=\"_blank\" href=https://colab.research.google.com/notebooks/data_table.ipynb>data table notebook</a>'\n",
              "            + ' to learn more about interactive tables.';\n",
              "          element.innerHTML = '';\n",
              "          dataTable['output_type'] = 'display_data';\n",
              "          await google.colab.output.renderOutput(dataTable, element);\n",
              "          const docLink = document.createElement('div');\n",
              "          docLink.innerHTML = docLinkHtml;\n",
              "          element.appendChild(docLink);\n",
              "        }\n",
              "      </script>\n",
              "    </div>\n",
              "  </div>\n",
              "  "
            ]
          },
          "metadata": {},
          "execution_count": 2
        }
      ],
      "source": [
        "#Reading the Data\n",
        "data=pd.read_csv('Used_cars.csv')\n",
        "data=data.drop('Unnamed: 0',axis=1)\n",
        "data"
      ]
    },
    {
      "cell_type": "markdown",
      "id": "8d9149be",
      "metadata": {
        "id": "8d9149be"
      },
      "source": [
        "# EDA\n",
        "## Understanding the Data"
      ]
    },
    {
      "cell_type": "code",
      "execution_count": 3,
      "id": "cce023ee",
      "metadata": {
        "colab": {
          "base_uri": "https://localhost:8080/"
        },
        "id": "cce023ee",
        "outputId": "ae87c971-d3f4-4783-9adc-98d391683470"
      },
      "outputs": [
        {
          "output_type": "execute_result",
          "data": {
            "text/plain": [
              "Make_Year       0\n",
              "Brand           0\n",
              "Model           0\n",
              "Transmission    0\n",
              "Kms             0\n",
              "Owner           0\n",
              "Variant         0\n",
              "City            0\n",
              "Price           0\n",
              "dtype: int64"
            ]
          },
          "metadata": {},
          "execution_count": 3
        }
      ],
      "source": [
        "#Checking for null values \n",
        "data.isna().sum()"
      ]
    },
    {
      "cell_type": "code",
      "execution_count": 4,
      "id": "ef3f32f2",
      "metadata": {
        "colab": {
          "base_uri": "https://localhost:8080/"
        },
        "id": "ef3f32f2",
        "outputId": "7812dc94-ce07-4a49-d1bc-66ff959f0f43"
      },
      "outputs": [
        {
          "output_type": "execute_result",
          "data": {
            "text/plain": [
              "Make_Year        int64\n",
              "Brand           object\n",
              "Model           object\n",
              "Transmission    object\n",
              "Kms             object\n",
              "Owner           object\n",
              "Variant         object\n",
              "City            object\n",
              "Price           object\n",
              "dtype: object"
            ]
          },
          "metadata": {},
          "execution_count": 4
        }
      ],
      "source": [
        "data.dtypes"
      ]
    },
    {
      "cell_type": "markdown",
      "id": "0b6daa54",
      "metadata": {
        "id": "0b6daa54"
      },
      "source": [
        "## Data Cleaning"
      ]
    },
    {
      "cell_type": "code",
      "execution_count": 5,
      "id": "e7c483e5",
      "metadata": {
        "colab": {
          "base_uri": "https://localhost:8080/"
        },
        "id": "e7c483e5",
        "outputId": "84258fc1-dd52-4321-f29a-122d45f7d93b"
      },
      "outputs": [
        {
          "output_type": "execute_result",
          "data": {
            "text/plain": [
              "array(['1st Owner', '2nd Owner', '3rd Owner'], dtype=object)"
            ]
          },
          "metadata": {},
          "execution_count": 5
        }
      ],
      "source": [
        "for i in range(len(data)):\n",
        "    data['Kms'][i]=data['Kms'][i].replace(\"km\", \"\").strip()\n",
        "for i in range(len(data)):\n",
        "    data['Kms'][i]=data['Kms'][i].replace(',', '')\n",
        "# Convert single column to int dtype\n",
        "data['Kms'] = pd.to_numeric(data['Kms'])\n",
        "data.Owner.unique()"
      ]
    },
    {
      "cell_type": "code",
      "execution_count": 6,
      "id": "fc592400",
      "metadata": {
        "colab": {
          "base_uri": "https://localhost:8080/"
        },
        "id": "fc592400",
        "outputId": "01f6f30a-a9c8-45dd-af16-291bf795165a"
      },
      "outputs": [
        {
          "output_type": "execute_result",
          "data": {
            "text/plain": [
              "array(['New Delhi', 'Mumbai', 'Gurgaon', 'Kolkata', 'Noida', 'Chennai',\n",
              "       'Pune', 'Hyderabad', 'Bengaluru'], dtype=object)"
            ]
          },
          "metadata": {},
          "execution_count": 6
        }
      ],
      "source": [
        "for i in range(len(data)):\n",
        "    data['Price'][i]=data['Price'][i].replace('[','').replace(']','').replace('₹','').replace(',','').replace(\"'\",'')\n",
        "data['Price']=pd.to_numeric(data['Price'])\n",
        "data.City.unique()"
      ]
    },
    {
      "cell_type": "markdown",
      "id": "4e542205",
      "metadata": {
        "id": "4e542205"
      },
      "source": [
        "# Univariate Analysis"
      ]
    },
    {
      "cell_type": "code",
      "execution_count": 7,
      "id": "138cf3cd",
      "metadata": {
        "colab": {
          "base_uri": "https://localhost:8080/",
          "height": 298
        },
        "id": "138cf3cd",
        "outputId": "e152b675-c706-4e61-e532-89811d21a6f9"
      },
      "outputs": [
        {
          "output_type": "execute_result",
          "data": {
            "text/plain": [
              "<matplotlib.axes._subplots.AxesSubplot at 0x7f26ee318c10>"
            ]
          },
          "metadata": {},
          "execution_count": 7
        },
        {
          "output_type": "display_data",
          "data": {
            "text/plain": [
              "<Figure size 432x288 with 1 Axes>"
            ],
            "image/png": "[encoded data removed]"
          },
          "metadata": {
            "needs_background": "light"
          }
        }
      ],
      "source": [
        "sns.countplot(data.City, color = 'Orange')"
      ]
    },
    {
      "cell_type": "code",
      "execution_count": 8,
      "id": "32634cf0",
      "metadata": {
        "colab": {
          "base_uri": "https://localhost:8080/",
          "height": 296
        },
        "id": "32634cf0",
        "outputId": "dc20cb3f-4529-40be-9d50-eaffee282f4c"
      },
      "outputs": [
        {
          "output_type": "execute_result",
          "data": {
            "text/plain": [
              "<matplotlib.axes._subplots.AxesSubplot at 0x7f26ee203290>"
            ]
          },
          "metadata": {},
          "execution_count": 8
        },
        {
          "output_type": "display_data",
          "data": {
            "text/plain": [
              "<Figure size 432x288 with 1 Axes>"
            ],
            "image/png": "[encoded data removed]"
          },
          "metadata": {
            "needs_background": "light"
          }
        }
      ],
      "source": [
        "sns.countplot(data.Owner, color = 'Orange')\n"
      ]
    },
    {
      "cell_type": "code",
      "execution_count": 9,
      "id": "6ccc3db3",
      "metadata": {
        "colab": {
          "base_uri": "https://localhost:8080/",
          "height": 307
        },
        "id": "6ccc3db3",
        "outputId": "3c01b175-53e4-4839-d7a6-2bb43e0a3e6b"
      },
      "outputs": [
        {
          "output_type": "execute_result",
          "data": {
            "text/plain": [
              "<matplotlib.axes._subplots.AxesSubplot at 0x7f26edd1c190>"
            ]
          },
          "metadata": {},
          "execution_count": 9
        },
        {
          "output_type": "display_data",
          "data": {
            "text/plain": [
              "<Figure size 432x288 with 1 Axes>"
            ],
            "image/png": "[encoded data removed]"
          },
          "metadata": {
            "needs_background": "light"
          }
        }
      ],
      "source": [
        "sns.distplot(data.Price, color = 'Orange')"
      ]
    },
    {
      "cell_type": "code",
      "execution_count": 10,
      "id": "5d47c85d",
      "metadata": {
        "colab": {
          "base_uri": "https://localhost:8080/"
        },
        "id": "5d47c85d",
        "outputId": "6eec3afb-9b8b-4cbb-e72b-73837fa821b6"
      },
      "outputs": [
        {
          "output_type": "execute_result",
          "data": {
            "text/plain": [
              "array(['Hyundai', 'Mercedes', 'KIA', 'MG', 'Renault', 'Honda', 'Maruti',\n",
              "       'Jaguar', 'Tata', 'Nissan', 'Jeep', 'Audi', 'Toyota', 'BMW',\n",
              "       'Datsun', 'Mahindra', 'Skoda', 'Ford', 'Volkswagen', 'Fiat'],\n",
              "      dtype=object)"
            ]
          },
          "metadata": {},
          "execution_count": 10
        }
      ],
      "source": [
        "for i in range(len(data)):\n",
        "    a=data.Brand[i].split(\" \")\n",
        "    data.Model[i]=a[1::]\n",
        "    data.Brand[i]=a[0]\n",
        "for i in range(len(data)):\n",
        "    if len(data.Model[i])==1:\n",
        "        data.Model[i]=data.Model[i][0]\n",
        "    if len(data.Model[i])==2:\n",
        "        data.Model[i]=data.Model[i][0]+\" \"+data.Model[i][1]\n",
        "    if len(data.Model[i])==3:\n",
        "        data.Model[i]=data.Model[i][0]+\" \"+data.Model[i][1]+\" \"+data.Model[i][2]\n",
        "data.Brand.unique()"
      ]
    },
    {
      "cell_type": "code",
      "execution_count": 12,
      "id": "f0b987ed",
      "metadata": {
        "colab": {
          "base_uri": "https://localhost:8080/"
        },
        "id": "f0b987ed",
        "outputId": "0c80fe21-b5a4-4f49-9816-823efab1054d"
      },
      "outputs": [
        {
          "output_type": "execute_result",
          "data": {
            "text/plain": [
              "array(['Verna', 'Benz C Class', 'SELTOS', 'Grand i10', 'HECTOR PLUS',\n",
              "       'Kiger', 'City', 'Baleno', 'X   F', 'WR-V', 'ALTROZ', 'MAGNITE',\n",
              "       'i 1 0', 'Compass', 'A   4', 'Dzire', 'Micra', 'SONET',\n",
              "       'NEW SANTRO', 'IGNIS', 'HECTOR', 'Kwid', 'i 2 0', 'PUNCH',\n",
              "       'New Wagon-R', 'Swift', 'URBAN CRUISER', 'X   3', 'VENUE',\n",
              "       'Redi Go', 'Swift Dzire', 'E o n', 'Vitara Brezza', 'Harrier',\n",
              "       'Jazz', 'XUV 3OO', 'Ciaz', 'Ritz', 'Celerio', 'Etios Liva',\n",
              "       'Amaze', 'Creta', 'YARIS', 'NEW I20', 'XUV500', 'Elite i20',\n",
              "       'Rapid', 'TIGOR', 'Figo Aspire', 'S PRESSO', 'Alto', 'Thar',\n",
              "       'S Cross', 'Alto K10', 'GRAND I10 NIOS', 'Corolla Altis', 'NEXON',\n",
              "       'Tucson New', 'Glanza', 'Ecosport', 'Civic', 'Hexa', 'Alto 800',\n",
              "       'Q   3', 'i20 Active', 'A   3', 'Brio', 'Duster', 'Scorpio',\n",
              "       'Octavia', 'X   1', 'A   6', 'Ertiga', 'Benz E Class', 'Fortuner',\n",
              "       '5 Series', 'Etios', 'Wagon R 1.0', 'Santro Xing', 'Safari',\n",
              "       'X L 6', 'Innova', 'Tiago', 'Xcent', 'Polo', 'TRIBER', 'Accord',\n",
              "       '3 Series', 'Vento', 'C R V', 'TUV300', 'Figo', 'Ameo', 'Superb',\n",
              "       'New Elantra', 'Micra Active', 'Terrano', 'Jetta', 'Lodgy',\n",
              "       'Celerio X', 'Go Plus', 'MARAZZO', 'Kicks', 'Captur', 'Eeco',\n",
              "       'TAIGUN', 'New Figo', 'BR-V', 'FREESTYLE', 'Xylo', 'A Star',\n",
              "       'Bolt', 'URBAN CROSS', 'Camry', 'BOLERO NEO', 'Wagon R Duo',\n",
              "       'Accent', 'Kuv100', 'AURA', 'Pulse', 'G   o', 'Nano', 'Zen Estilo'],\n",
              "      dtype=object)"
            ]
          },
          "metadata": {},
          "execution_count": 12
        }
      ],
      "source": [
        "data.Model.unique()"
      ]
    },
    {
      "cell_type": "markdown",
      "id": "d201ebda",
      "metadata": {
        "id": "d201ebda"
      },
      "source": [
        "# Bi-variate Analysis"
      ]
    },
    {
      "cell_type": "code",
      "execution_count": 13,
      "id": "fdedcc6c",
      "metadata": {
        "colab": {
          "base_uri": "https://localhost:8080/",
          "height": 634
        },
        "id": "fdedcc6c",
        "outputId": "9ea9f4c0-8e3e-4248-9177-aadcd48d1a66"
      },
      "outputs": [
        {
          "output_type": "execute_result",
          "data": {
            "text/plain": [
              "<matplotlib.axes._subplots.AxesSubplot at 0x7f26edb45c50>"
            ]
          },
          "metadata": {},
          "execution_count": 13
        },
        {
          "output_type": "display_data",
          "data": {
            "text/plain": [
              "<Figure size 720x720 with 1 Axes>"
            ],
            "image/png": "[encoded data removed]"
          },
          "metadata": {
            "needs_background": "light"
          }
        }
      ],
      "source": [
        "plt.figure(figsize=(10,10))\n",
        "sns.barplot(x=data.Make_Year, y=data.Price)"
      ]
    },
    {
      "cell_type": "code",
      "source": [
        "brand_Unique=list(data.Brand.unique())\n",
        "averagePrice=[]\n",
        "\n",
        "for i in brand_Unique:\n",
        "    x=data[data.Brand==i]\n",
        "    averagePrice.append(sum(x['Price'])/len(x))\n",
        "df=pd.DataFrame({'brand_unique':brand_Unique,'Average_Price':averagePrice})\n",
        "\n",
        "new_=df.Average_Price.sort_values(ascending=False).index.values\n",
        "data_sort=df.reindex(new_)\n",
        "\n",
        "plt.figure(figsize=(22,10))\n",
        "ax=sns.barplot(x=data_sort.brand_unique,y=data_sort.Average_Price)\n",
        "\n",
        "plt.xticks(rotation=90)\n",
        "plt.xlabel('Brand')\n",
        "plt.ylabel('Average  Price')\n",
        "plt.title('Average Price v/s Brand')"
      ],
      "metadata": {
        "colab": {
          "base_uri": "https://localhost:8080/",
          "height": 514
        },
        "id": "o1aOjrh9Gi8c",
        "outputId": "f5711017-3869-4b70-b339-d4d5196e606f"
      },
      "id": "o1aOjrh9Gi8c",
      "execution_count": 14,
      "outputs": [
        {
          "output_type": "execute_result",
          "data": {
            "text/plain": [
              "Text(0.5, 1.0, 'Average Price v/s Brand')"
            ]
          },
          "metadata": {},
          "execution_count": 14
        },
        {
          "output_type": "display_data",
          "data": {
            "text/plain": [
              "<Figure size 1584x720 with 1 Axes>"
            ],
            "image/png": "[encoded data removed]"
          },
          "metadata": {
            "needs_background": "light"
          }
        }
      ]
    },
    {
      "cell_type": "code",
      "source": [
        "plt.figure(figsize=(10,10))\n",
        "sns.barplot(x=data.Transmission, y=data.Price)"
      ],
      "metadata": {
        "colab": {
          "base_uri": "https://localhost:8080/",
          "height": 633
        },
        "id": "Z2bCtmsIHSkP",
        "outputId": "4ce0b579-770e-489e-f42a-061e3209b2b1"
      },
      "id": "Z2bCtmsIHSkP",
      "execution_count": 15,
      "outputs": [
        {
          "output_type": "execute_result",
          "data": {
            "text/plain": [
              "<matplotlib.axes._subplots.AxesSubplot at 0x7f26eda9e0d0>"
            ]
          },
          "metadata": {},
          "execution_count": 15
        },
        {
          "output_type": "display_data",
          "data": {
            "text/plain": [
              "<Figure size 720x720 with 1 Axes>"
            ],
            "image/png": "[encoded data removed]"
          },
          "metadata": {
            "needs_background": "light"
          }
        }
      ]
    },
    {
      "cell_type": "code",
      "source": [
        "plt.figure(figsize=(10,10))\n",
        "sns.barplot(x=data.Variant, y=data.Price)"
      ],
      "metadata": {
        "colab": {
          "base_uri": "https://localhost:8080/",
          "height": 633
        },
        "id": "JCYxlSimHWaz",
        "outputId": "4d2e3dfd-76fd-417a-d341-7d9c78d027ae"
      },
      "id": "JCYxlSimHWaz",
      "execution_count": 17,
      "outputs": [
        {
          "output_type": "execute_result",
          "data": {
            "text/plain": [
              "<matplotlib.axes._subplots.AxesSubplot at 0x7f26edd845d0>"
            ]
          },
          "metadata": {},
          "execution_count": 17
        },
        {
          "output_type": "display_data",
          "data": {
            "text/plain": [
              "<Figure size 720x720 with 1 Axes>"
            ],
            "image/png": "[encoded data removed]"
          },
          "metadata": {
            "needs_background": "light"
          }
        }
      ]
    },
    {
      "cell_type": "code",
      "source": [
        "plt.figure(figsize=(10,10))\n",
        "sns.barplot(x=data.Owner, y=data.Price)"
      ],
      "metadata": {
        "colab": {
          "base_uri": "https://localhost:8080/",
          "height": 623
        },
        "id": "IFspmuNjHnfV",
        "outputId": "eb88efdd-0a35-478a-a167-3eb7cb3eaa91"
      },
      "id": "IFspmuNjHnfV",
      "execution_count": 18,
      "outputs": [
        {
          "output_type": "execute_result",
          "data": {
            "text/plain": [
              "<matplotlib.axes._subplots.AxesSubplot at 0x7f26ed777d90>"
            ]
          },
          "metadata": {},
          "execution_count": 18
        },
        {
          "output_type": "display_data",
          "data": {
            "text/plain": [
              "<Figure size 720x720 with 1 Axes>"
            ],
            "image/png": "[encoded data removed]"
          },
          "metadata": {
            "needs_background": "light"
          }
        }
      ]
    },
    {
      "cell_type": "markdown",
      "id": "6df17d77",
      "metadata": {
        "id": "6df17d77"
      },
      "source": [
        "# Co-Relation Matrix"
      ]
    },
    {
      "cell_type": "code",
      "execution_count": 19,
      "id": "76076157",
      "metadata": {
        "colab": {
          "base_uri": "https://localhost:8080/",
          "height": 282
        },
        "id": "76076157",
        "outputId": "29e496ee-08fd-4e8e-ad81-360ee6f32489"
      },
      "outputs": [
        {
          "output_type": "display_data",
          "data": {
            "text/plain": [
              "<Figure size 432x288 with 2 Axes>"
            ],
            "image/png": "[encoded data removed]"
          },
          "metadata": {
            "needs_background": "light"
          }
        }
      ],
      "source": [
        "sns.heatmap(data.corr(),cmap=\"PiYG\", annot = True)\n",
        "plt.title('Correlation')\n",
        "plt.show()"
      ]
    },
    {
      "cell_type": "markdown",
      "id": "a21f6b5f",
      "metadata": {
        "id": "a21f6b5f"
      },
      "source": [
        "# Dummy Values"
      ]
    },
    {
      "cell_type": "code",
      "execution_count": 20,
      "id": "34b8e7d8",
      "metadata": {
        "colab": {
          "base_uri": "https://localhost:8080/",
          "height": 223
        },
        "id": "34b8e7d8",
        "outputId": "738b1282-1901-4a9b-9c20-7f294c7116c6"
      },
      "outputs": [
        {
          "output_type": "execute_result",
          "data": {
            "text/plain": [
              "   Make_Year    Kms    Price  Brand_BMW  Brand_Datsun  Brand_Fiat  Brand_Ford  \\\n",
              "0       2019  81902   981699          0             0           0           0   \n",
              "1       2014  37531  2053699          0             0           0           0   \n",
              "\n",
              "   Brand_Honda  Brand_Hyundai  Brand_Jaguar  ...  Variant_Petrol + Ev  \\\n",
              "0            0              1             0  ...                    0   \n",
              "1            0              0             0  ...                    0   \n",
              "\n",
              "   Variant_Petrol + LPG  City_Chennai  City_Gurgaon  City_Hyderabad  \\\n",
              "0                     0             0             0               0   \n",
              "1                     0             0             0               0   \n",
              "\n",
              "   City_Kolkata  City_Mumbai  City_New Delhi  City_Noida  City_Pune  \n",
              "0             0            0               1           0          0  \n",
              "1             0            0               1           0          0  \n",
              "\n",
              "[2 rows x 159 columns]"
            ],
            "text/html": [
              "\n",
              "  <div id=\"df-ea413d6d-183b-4e5b-b346-ccd8c5a0f1e0\">\n",
              "    <div class=\"colab-df-container\">\n",
              "      <div>\n",
              "<style scoped>\n",
              "    .dataframe tbody tr th:only-of-type {\n",
              "        vertical-align: middle;\n",
              "    }\n",
              "\n",
              "    .dataframe tbody tr th {\n",
              "        vertical-align: top;\n",
              "    }\n",
              "\n",
              "    .dataframe thead th {\n",
              "        text-align: right;\n",
              "    }\n",
              "</style>\n",
              "<table border=\"1\" class=\"dataframe\">\n",
              "  <thead>\n",
              "    <tr style=\"text-align: right;\">\n",
              "      <th></th>\n",
              "      <th>Make_Year</th>\n",
              "      <th>Kms</th>\n",
              "      <th>Price</th>\n",
              "      <th>Brand_BMW</th>\n",
              "      <th>Brand_Datsun</th>\n",
              "      <th>Brand_Fiat</th>\n",
              "      <th>Brand_Ford</th>\n",
              "      <th>Brand_Honda</th>\n",
              "      <th>Brand_Hyundai</th>\n",
              "      <th>Brand_Jaguar</th>\n",
              "      <th>...</th>\n",
              "      <th>Variant_Petrol + Ev</th>\n",
              "      <th>Variant_Petrol + LPG</th>\n",
              "      <th>City_Chennai</th>\n",
              "      <th>City_Gurgaon</th>\n",
              "      <th>City_Hyderabad</th>\n",
              "      <th>City_Kolkata</th>\n",
              "      <th>City_Mumbai</th>\n",
              "      <th>City_New Delhi</th>\n",
              "      <th>City_Noida</th>\n",
              "      <th>City_Pune</th>\n",
              "    </tr>\n",
              "  </thead>\n",
              "  <tbody>\n",
              "    <tr>\n",
              "      <th>0</th>\n",
              "      <td>2019</td>\n",
              "      <td>81902</td>\n",
              "      <td>981699</td>\n",
              "      <td>0</td>\n",
              "      <td>0</td>\n",
              "      <td>0</td>\n",
              "      <td>0</td>\n",
              "      <td>0</td>\n",
              "      <td>1</td>\n",
              "      <td>0</td>\n",
              "      <td>...</td>\n",
              "      <td>0</td>\n",
              "      <td>0</td>\n",
              "      <td>0</td>\n",
              "      <td>0</td>\n",
              "      <td>0</td>\n",
              "      <td>0</td>\n",
              "      <td>0</td>\n",
              "      <td>1</td>\n",
              "      <td>0</td>\n",
              "      <td>0</td>\n",
              "    </tr>\n",
              "    <tr>\n",
              "      <th>1</th>\n",
              "      <td>2014</td>\n",
              "      <td>37531</td>\n",
              "      <td>2053699</td>\n",
              "      <td>0</td>\n",
              "      <td>0</td>\n",
              "      <td>0</td>\n",
              "      <td>0</td>\n",
              "      <td>0</td>\n",
              "      <td>0</td>\n",
              "      <td>0</td>\n",
              "      <td>...</td>\n",
              "      <td>0</td>\n",
              "      <td>0</td>\n",
              "      <td>0</td>\n",
              "      <td>0</td>\n",
              "      <td>0</td>\n",
              "      <td>0</td>\n",
              "      <td>0</td>\n",
              "      <td>1</td>\n",
              "      <td>0</td>\n",
              "      <td>0</td>\n",
              "    </tr>\n",
              "  </tbody>\n",
              "</table>\n",
              "<p>2 rows × 159 columns</p>\n",
              "</div>\n",
              "      <button class=\"colab-df-convert\" onclick=\"convertToInteractive('df-ea413d6d-183b-4e5b-b346-ccd8c5a0f1e0')\"\n",
              "              title=\"Convert this dataframe to an interactive table.\"\n",
              "              style=\"display:none;\">\n",
              "        \n",
              "  <svg xmlns=\"http://www.w3.org/2000/svg\" height=\"24px\"viewBox=\"0 0 24 24\"\n",
              "       width=\"24px\">\n",
              "    <path d=\"M0 0h24v24H0V0z\" fill=\"none\"/>\n",
              "    <path d=\"M18.56 5.44l.94 2.06.94-2.06 2.06-.94-2.06-.94-.94-2.06-.94 2.06-2.06.94zm-11 1L8.5 8.5l.94-2.06 2.06-.94-2.06-.94L8.5 2.5l-.94 2.06-2.06.94zm10 10l.94 2.06.94-2.06 2.06-.94-2.06-.94-.94-2.06-.94 2.06-2.06.94z\"/><path d=\"M17.41 7.96l-1.37-1.37c-.4-.4-.92-.59-1.43-.59-.52 0-1.04.2-1.43.59L10.3 9.45l-7.72 7.72c-.78.78-.78 2.05 0 2.83L4 21.41c.39.39.9.59 1.41.59.51 0 1.02-.2 1.41-.59l7.78-7.78 2.81-2.81c.8-.78.8-2.07 0-2.86zM5.41 20L4 18.59l7.72-7.72 1.47 1.35L5.41 20z\"/>\n",
              "  </svg>\n",
              "      </button>\n",
              "      \n",
              "  <style>\n",
              "    .colab-df-container {\n",
              "      display:flex;\n",
              "      flex-wrap:wrap;\n",
              "      gap: 12px;\n",
              "    }\n",
              "\n",
              "    .colab-df-convert {\n",
              "      background-color: #E8F0FE;\n",
              "      border: none;\n",
              "      border-radius: 50%;\n",
              "      cursor: pointer;\n",
              "      display: none;\n",
              "      fill: #1967D2;\n",
              "      height: 32px;\n",
              "      padding: 0 0 0 0;\n",
              "      width: 32px;\n",
              "    }\n",
              "\n",
              "    .colab-df-convert:hover {\n",
              "      background-color: #E2EBFA;\n",
              "      box-shadow: 0px 1px 2px rgba(60, 64, 67, 0.3), 0px 1px 3px 1px rgba(60, 64, 67, 0.15);\n",
              "      fill: #174EA6;\n",
              "    }\n",
              "\n",
              "    [theme=dark] .colab-df-convert {\n",
              "      background-color: #3B4455;\n",
              "      fill: #D2E3FC;\n",
              "    }\n",
              "\n",
              "    [theme=dark] .colab-df-convert:hover {\n",
              "      background-color: #434B5C;\n",
              "      box-shadow: 0px 1px 3px 1px rgba(0, 0, 0, 0.15);\n",
              "      filter: drop-shadow(0px 1px 2px rgba(0, 0, 0, 0.3));\n",
              "      fill: #FFFFFF;\n",
              "    }\n",
              "  </style>\n",
              "\n",
              "      <script>\n",
              "        const buttonEl =\n",
              "          document.querySelector('#df-ea413d6d-183b-4e5b-b346-ccd8c5a0f1e0 button.colab-df-convert');\n",
              "        buttonEl.style.display =\n",
              "          google.colab.kernel.accessAllowed ? 'block' : 'none';\n",
              "\n",
              "        async function convertToInteractive(key) {\n",
              "          const element = document.querySelector('#df-ea413d6d-183b-4e5b-b346-ccd8c5a0f1e0');\n",
              "          const dataTable =\n",
              "            await google.colab.kernel.invokeFunction('convertToInteractive',\n",
              "                                                     [key], {});\n",
              "          if (!dataTable) return;\n",
              "\n",
              "          const docLinkHtml = 'Like what you see? Visit the ' +\n",
              "            '<a target=\"_blank\" href=https://colab.research.google.com/notebooks/data_table.ipynb>data table notebook</a>'\n",
              "            + ' to learn more about interactive tables.';\n",
              "          element.innerHTML = '';\n",
              "          dataTable['output_type'] = 'display_data';\n",
              "          await google.colab.output.renderOutput(dataTable, element);\n",
              "          const docLink = document.createElement('div');\n",
              "          docLink.innerHTML = docLinkHtml;\n",
              "          element.appendChild(docLink);\n",
              "        }\n",
              "      </script>\n",
              "    </div>\n",
              "  </div>\n",
              "  "
            ]
          },
          "metadata": {},
          "execution_count": 20
        }
      ],
      "source": [
        "# Using Dummy variable can also use Label Encoding\n",
        "data=pd.get_dummies(data,drop_first=True)\n",
        "data.head(2)"
      ]
    },
    {
      "cell_type": "markdown",
      "id": "8d153d4d",
      "metadata": {
        "id": "8d153d4d"
      },
      "source": [
        "# Feature Engineering"
      ]
    },
    {
      "cell_type": "code",
      "execution_count": 21,
      "id": "9d1dbacf",
      "metadata": {
        "id": "9d1dbacf"
      },
      "outputs": [],
      "source": [
        "data['Age of the vehicle']=2022-data['Make_Year']\n"
      ]
    },
    {
      "cell_type": "code",
      "execution_count": 22,
      "id": "2cf607d3",
      "metadata": {
        "colab": {
          "base_uri": "https://localhost:8080/"
        },
        "id": "2cf607d3",
        "outputId": "6b9f695e-71eb-46e1-c990-c877604f07d4"
      },
      "outputs": [
        {
          "output_type": "execute_result",
          "data": {
            "text/plain": [
              "(4066, 160)"
            ]
          },
          "metadata": {},
          "execution_count": 22
        }
      ],
      "source": [
        "# Removing Duplicates\n",
        "data=data.drop_duplicates()\n",
        "data.shape"
      ]
    },
    {
      "cell_type": "code",
      "execution_count": 23,
      "id": "174ff462",
      "metadata": {
        "id": "174ff462"
      },
      "outputs": [],
      "source": [
        "# Splitting Dependent and Independent Variable\n",
        "features = data.drop([\"Price\",'Make_Year'],axis=1)\n",
        "target = data[\"Price\"]"
      ]
    },
    {
      "cell_type": "markdown",
      "id": "2718d144",
      "metadata": {
        "id": "2718d144"
      },
      "source": [
        "# Model Function"
      ]
    },
    {
      "cell_type": "code",
      "execution_count": 24,
      "id": "d4aae3fd",
      "metadata": {
        "id": "d4aae3fd"
      },
      "outputs": [],
      "source": [
        "#Importing necessary libraries\n",
        "from sklearn import datasets, linear_model, metrics\n",
        "from sklearn import preprocessing\n",
        "from sklearn.model_selection import train_test_split\n",
        "from sklearn.metrics import r2_score,mean_squared_error,mean_absolute_error\n",
        "from sklearn.ensemble import RandomForestRegressor\n",
        "from sklearn.linear_model import LinearRegression\n",
        "from sklearn.metrics import classification_report\n",
        "from sklearn.model_selection import cross_val_score\n",
        "from sklearn import metrics\n",
        "from sklearn.model_selection import GridSearchCV\n",
        "from sklearn.linear_model import Lasso,Ridge\n",
        "from xgboost.sklearn import XGBRegressor\n",
        "from sklearn.model_selection import train_test_split\n",
        "import warnings\n",
        "warnings.filterwarnings(\"ignore\")\n",
        "\n",
        "def model_building(Features,target,model):\n",
        "    Maximum_Accuracy=0\n",
        "\n",
        "    test_size=[0.2,0.25,0.3]\n",
        "\n",
        "    for j in test_size:\n",
        "        for i in range(100):\n",
        "            x_train, x_test, y_train, y_test = train_test_split(Features, target, test_size=j,\n",
        "                                                          random_state=i)\n",
        "\n",
        "        model.fit(x_train,y_train)\n",
        "        pred= model.predict(x_test)\n",
        "        acc=r2_score(y_test,pred)\n",
        "        check=model.predict(x_train)\n",
        "        check_acc=r2_score(y_train,check)\n",
        "\n",
        "        if acc>Maximum_Accuracy:\n",
        "            Maximum_Accuracy=acc\n",
        "            print(\"R-square\",Maximum_Accuracy,\"Train set R Squared\",check_acc,'Random state',i,'test_size',j)"
      ]
    },
    {
      "cell_type": "markdown",
      "id": "97bb8fd7",
      "metadata": {
        "id": "97bb8fd7"
      },
      "source": [
        "# LINEAR REGRESSION"
      ]
    },
    {
      "cell_type": "code",
      "execution_count": 25,
      "id": "8171abb2",
      "metadata": {
        "colab": {
          "base_uri": "https://localhost:8080/"
        },
        "id": "8171abb2",
        "outputId": "76de2d27-1b07-4d61-f6f9-7d7b2f40fec7"
      },
      "outputs": [
        {
          "output_type": "stream",
          "name": "stdout",
          "text": [
            "R-square 0.9157525526615258 Train set R Squared 0.9363776519766812 Random state 99 test_size 0.2\n",
            "R-square 0.919815321203032 Train set R Squared 0.9359120182316938 Random state 99 test_size 0.25\n",
            "R-square 0.9215583642284857 Train set R Squared 0.9355560924564831 Random state 99 test_size 0.3\n"
          ]
        }
      ],
      "source": [
        "model_building(features,target,LinearRegression())"
      ]
    },
    {
      "cell_type": "code",
      "execution_count": 26,
      "id": "9c58a70c",
      "metadata": {
        "colab": {
          "base_uri": "https://localhost:8080/"
        },
        "id": "9c58a70c",
        "outputId": "ab9c86ac-9a6e-43f0-9492-7f0f43dbf716"
      },
      "outputs": [
        {
          "output_type": "stream",
          "name": "stdout",
          "text": [
            "0.9355560924564831\n",
            "MSE: 10924100936.849373\n",
            "MAE: 71078.72174161907\n",
            "r2_score: 0.9147717024333353\n",
            "RMSE Score 104518.42391104724\n"
          ]
        }
      ],
      "source": [
        "# creating empty list that will help us in the end to judge the best model\n",
        "model_name=[]\n",
        "mse=[]\n",
        "mae=[]\n",
        "R_sq=[]\n",
        "rmse=[]\n",
        "x_train, x_test, y_train, y_test = train_test_split(features, target, test_size=0.3,random_state=99)\n",
        "lr=LinearRegression()\n",
        "lr.fit(x_train,y_train)\n",
        "lr_pred=lr.predict(x_test)\n",
        "print(lr.score(x_train,y_train))\n",
        "print('MSE:',mean_squared_error(lr_pred,y_test))\n",
        "print('MAE:',mean_absolute_error(lr_pred,y_test))\n",
        "print('r2_score:',r2_score(lr_pred,y_test))\n",
        "print('RMSE Score',np.sqrt(metrics.mean_squared_error(y_test,lr_pred)))\n"
      ]
    },
    {
      "cell_type": "code",
      "execution_count": 27,
      "id": "3cdcff3d",
      "metadata": {
        "colab": {
          "base_uri": "https://localhost:8080/",
          "height": 306
        },
        "id": "3cdcff3d",
        "outputId": "a83ffb2b-0e65-48e3-d8b4-3cc3d59e8a14"
      },
      "outputs": [
        {
          "output_type": "execute_result",
          "data": {
            "text/plain": [
              "<matplotlib.collections.PathCollection at 0x7f26e062b250>"
            ]
          },
          "metadata": {},
          "execution_count": 27
        },
        {
          "output_type": "display_data",
          "data": {
            "text/plain": [
              "<Figure size 432x288 with 1 Axes>"
            ],
            "image/png": "[encoded data removed]"
          },
          "metadata": {
            "needs_background": "light"
          }
        }
      ],
      "source": [
        "mse.append(mean_squared_error(lr_pred,y_test))\n",
        "mae.append(mean_absolute_error(lr_pred,y_test))\n",
        "R_sq.append(r2_score(lr_pred,y_test))\n",
        "model_name.append(\"linear_regression\")\n",
        "rmse.append(np.sqrt(metrics.mean_squared_error(y_test,lr_pred)))\n",
        "plt.scatter(x=y_test,y=lr_pred)"
      ]
    },
    {
      "cell_type": "markdown",
      "id": "c3d46d65",
      "metadata": {
        "id": "c3d46d65"
      },
      "source": [
        "# RIDGE REGRESSION"
      ]
    },
    {
      "cell_type": "code",
      "execution_count": 28,
      "id": "f5dc7ddf",
      "metadata": {
        "colab": {
          "base_uri": "https://localhost:8080/"
        },
        "id": "f5dc7ddf",
        "outputId": "9f549d9a-0d3f-400b-860a-a0fb2e32be1e"
      },
      "outputs": [
        {
          "output_type": "stream",
          "name": "stdout",
          "text": [
            "R-square 0.9151321185068527 Train set R Squared 0.933394075415846 Random state 99 test_size 0.2\n",
            "R-square 0.9186132566126627 Train set R Squared 0.9326773371636516 Random state 99 test_size 0.25\n",
            "R-square 0.9191678060137127 Train set R Squared 0.9319796715776593 Random state 99 test_size 0.3\n"
          ]
        }
      ],
      "source": [
        "model_building(features,target,Ridge())"
      ]
    },
    {
      "cell_type": "code",
      "execution_count": 29,
      "id": "61d666cc",
      "metadata": {
        "colab": {
          "base_uri": "https://localhost:8080/"
        },
        "id": "61d666cc",
        "outputId": "92ae43ef-e1e5-47ef-cd48-8159f84c0051"
      },
      "outputs": [
        {
          "output_type": "stream",
          "name": "stdout",
          "text": [
            "{'alpha': 0.01, 'solver': 'auto'}\n"
          ]
        }
      ],
      "source": [
        "x_train, x_test, y_train, y_test = train_test_split(features, target, test_size=0.3,random_state=99)\n",
        "parameters={\"alpha\":[1e-15,1e-10,1e-8,1e-3,1e-2,1,5,10,20,30,35,40,45,50,55,100],'solver':['auto','svd','cholesky','lsqr']}\n",
        "ridge=Ridge()\n",
        "RR=GridSearchCV(ridge,parameters,scoring='neg_mean_squared_error')\n",
        "RR.fit(x_train,y_train)\n",
        "print(RR.best_params_)"
      ]
    },
    {
      "cell_type": "code",
      "execution_count": 30,
      "id": "1aec9fb7",
      "metadata": {
        "colab": {
          "base_uri": "https://localhost:8080/",
          "height": 376
        },
        "id": "1aec9fb7",
        "outputId": "0f913667-1f73-48f2-ed05-47b395f673c6"
      },
      "outputs": [
        {
          "output_type": "stream",
          "name": "stdout",
          "text": [
            "R2_score: 0.9215551639336185\n",
            "mse: 10924546622.916637\n",
            "mae: 71079.42864949627\n",
            "rmse: 104520.55598262305\n"
          ]
        },
        {
          "output_type": "execute_result",
          "data": {
            "text/plain": [
              "<matplotlib.collections.PathCollection at 0x7f26e0660c90>"
            ]
          },
          "metadata": {},
          "execution_count": 30
        },
        {
          "output_type": "display_data",
          "data": {
            "text/plain": [
              "<Figure size 432x288 with 1 Axes>"
            ],
            "image/png": "[encoded data removed]"
          },
          "metadata": {
            "needs_background": "light"
          }
        }
      ],
      "source": [
        "rr=Ridge(alpha=0.01,solver='auto')\n",
        "rr.fit(x_train,y_train)\n",
        "rr_pred=rr.predict(x_test)\n",
        "print('R2_score:',r2_score(y_test,rr_pred))\n",
        "print('mse:',metrics.mean_squared_error(y_test,rr_pred))\n",
        "print('mae:',metrics.mean_absolute_error(y_test,rr_pred))\n",
        "print('rmse:',np.sqrt(metrics.mean_squared_error(y_test,rr_pred)))\n",
        "mse.append(mean_squared_error(rr_pred,y_test))\n",
        "mae.append(mean_absolute_error(rr_pred,y_test))\n",
        "R_sq.append(r2_score(y_test,rr_pred))\n",
        "model_name.append(\"ridge_regression\")\n",
        "rmse.append(np.sqrt(metrics.mean_squared_error(y_test,rr_pred)))\n",
        "plt.scatter(x=y_test,y=rr_pred)\n"
      ]
    },
    {
      "cell_type": "markdown",
      "id": "281742f0",
      "metadata": {
        "id": "281742f0"
      },
      "source": [
        "# Lasso Regression"
      ]
    },
    {
      "cell_type": "code",
      "execution_count": 31,
      "id": "1faa875c",
      "metadata": {
        "colab": {
          "base_uri": "https://localhost:8080/"
        },
        "id": "1faa875c",
        "outputId": "7c0027f8-3c01-4a71-d577-9539ed50f73b"
      },
      "outputs": [
        {
          "output_type": "stream",
          "name": "stdout",
          "text": [
            "R-square 0.9167356682574793 Train set R Squared 0.936376831629468 Random state 99 test_size 0.2\n",
            "R-square 0.9206849070838276 Train set R Squared 0.935911232100368 Random state 99 test_size 0.25\n",
            "R-square 0.9222543507998477 Train set R Squared 0.9355553224583336 Random state 99 test_size 0.3\n"
          ]
        }
      ],
      "source": [
        "model_building(features,target,Lasso())"
      ]
    },
    {
      "cell_type": "code",
      "execution_count": 32,
      "id": "c511c4bc",
      "metadata": {
        "colab": {
          "base_uri": "https://localhost:8080/"
        },
        "id": "c511c4bc",
        "outputId": "e08b9a10-dc49-4238-982f-5a0cf5c60d29"
      },
      "outputs": [
        {
          "output_type": "stream",
          "name": "stdout",
          "text": [
            "{'alpha': 0.0001}\n"
          ]
        }
      ],
      "source": [
        "x_train, x_test, y_train, y_test = train_test_split(features, target, test_size=0.3,random_state=99)\n",
        "parameters={'alpha':[0.0001,0.001,0.01,0.1,1,10]}\n",
        "lasso=Lasso()\n",
        "LS=GridSearchCV(lasso,parameters,scoring='neg_mean_squared_error')\n",
        "LS.fit(x_train,y_train)\n",
        "print(LS.best_params_)"
      ]
    },
    {
      "cell_type": "code",
      "execution_count": 33,
      "id": "925774e8",
      "metadata": {
        "colab": {
          "base_uri": "https://localhost:8080/",
          "height": 376
        },
        "id": "925774e8",
        "outputId": "85c0841f-fa46-45f6-fd45-c4e00c836855"
      },
      "outputs": [
        {
          "output_type": "stream",
          "name": "stdout",
          "text": [
            "R2_score: 0.9225614557950262\n",
            "mse: 10784406329.336212\n",
            "mae: 70791.07176954356\n",
            "rmse: 103847.99627020356\n"
          ]
        },
        {
          "output_type": "execute_result",
          "data": {
            "text/plain": [
              "<matplotlib.collections.PathCollection at 0x7f26e0577610>"
            ]
          },
          "metadata": {},
          "execution_count": 33
        },
        {
          "output_type": "display_data",
          "data": {
            "text/plain": [
              "<Figure size 432x288 with 1 Axes>"
            ],
            "image/png": "[encoded data removed]"
          },
          "metadata": {
            "needs_background": "light"
          }
        }
      ],
      "source": [
        "ls=Lasso(alpha=0.0001)\n",
        "ls.fit(x_train,y_train)\n",
        "ls_pred=ls.predict(x_test)\n",
        "print('R2_score:',r2_score(y_test,ls_pred))\n",
        "print('mse:',metrics.mean_squared_error(y_test,ls_pred))\n",
        "print('mae:',metrics.mean_absolute_error(y_test,ls_pred))\n",
        "print('rmse:',np.sqrt(metrics.mean_squared_error(y_test,ls_pred)))\n",
        "\n",
        "mse.append(mean_squared_error(ls_pred,y_test))\n",
        "mae.append(mean_absolute_error(ls_pred,y_test))\n",
        "R_sq.append(r2_score(y_test,ls_pred))\n",
        "model_name.append(\"lasso_regression\")\n",
        "rmse.append(np.sqrt(metrics.mean_squared_error(y_test,ls_pred)))\n",
        "plt.scatter(x=y_test,y=ls_pred)\n"
      ]
    },
    {
      "cell_type": "markdown",
      "id": "703891d7",
      "metadata": {
        "id": "703891d7"
      },
      "source": [
        "# Xgboost Regressor"
      ]
    },
    {
      "cell_type": "code",
      "execution_count": 34,
      "id": "5ea19748",
      "metadata": {
        "colab": {
          "base_uri": "https://localhost:8080/"
        },
        "id": "5ea19748",
        "outputId": "3726078c-e98c-4278-fd6a-6d761ea9b604"
      },
      "outputs": [
        {
          "output_type": "stream",
          "name": "stdout",
          "text": [
            "R-square 0.8546594681855754 Train set R Squared 0.849184367483313 Random state 99 test_size 0.2\n"
          ]
        }
      ],
      "source": [
        "model_building(features,target,XGBRegressor(objective ='reg:linear', verbosity = 0, random_state=42))"
      ]
    },
    {
      "cell_type": "code",
      "execution_count": null,
      "id": "a6ad5385",
      "metadata": {
        "id": "a6ad5385",
        "outputId": "d8491439-1824-47e2-b227-53c6b854ed7b"
      },
      "outputs": [
        {
          "name": "stdout",
          "output_type": "stream",
          "text": [
            "{'colsample_bylevel': 0.5, 'learning_rate': 0.2, 'max_depth': 5, 'n_estimators': 500, 'objective': 'reg:linear'}\n"
          ]
        }
      ],
      "source": [
        "x_train, x_test, y_train, y_test = train_test_split(features, target, test_size=0.2,random_state=99)\n",
        "xgb1 = XGBRegressor(verbosity = 0, random_state=42)\n",
        "parameters ={\n",
        "        'objective':['reg:linear'],\n",
        "         'max_depth': [1,2,3,4,5,6,7,8,9,10],\n",
        "         'colsample_bylevel':[0.2,0.5,0.6,1],\n",
        "         'learning_rate':[0.01,0.1,0.3,0.2,1],\n",
        "         'n_estimators':[100,150,200,500]\n",
        "                    }\n",
        "\n",
        "xgb_grid = GridSearchCV(xgb1,parameters,cv=3)\n",
        "\n",
        "xgb_grid.fit(x_train, y_train)\n",
        "print(xgb_grid.best_params_)"
      ]
    },
    {
      "cell_type": "code",
      "execution_count": 35,
      "id": "c4dc42e2",
      "metadata": {
        "colab": {
          "base_uri": "https://localhost:8080/",
          "height": 376
        },
        "id": "c4dc42e2",
        "outputId": "09110ae3-ea37-436f-ddb8-be86db62d4ee"
      },
      "outputs": [
        {
          "output_type": "stream",
          "name": "stdout",
          "text": [
            "R2_score: 0.9614776294156075\n",
            "mse: 5251453598.163208\n",
            "mae: 46455.2355267199\n",
            "rmse: 72466.91381701865\n"
          ]
        },
        {
          "output_type": "execute_result",
          "data": {
            "text/plain": [
              "<matplotlib.collections.PathCollection at 0x7f26dfa92250>"
            ]
          },
          "metadata": {},
          "execution_count": 35
        },
        {
          "output_type": "display_data",
          "data": {
            "text/plain": [
              "<Figure size 432x288 with 1 Axes>"
            ],
            "image/png": "[encoded data removed]"
          },
          "metadata": {
            "needs_background": "light"
          }
        }
      ],
      "source": [
        "x_train, x_test, y_train, y_test = train_test_split(features, target, test_size=0.2,random_state=99)\n",
        "Xg=XGBRegressor(objective ='reg:linear',verbosity= 0, random_state=42, colsample_bylevel=0.5,learning_rate=0.2,max_depth= 5,n_estimators=500)\n",
        "Xg.fit(x_train,y_train)\n",
        "Xg_pred=Xg.predict(x_test)\n",
        "print('R2_score:',r2_score(y_test,Xg_pred))\n",
        "print('mse:',metrics.mean_squared_error(y_test,Xg_pred))\n",
        "print('mae:',metrics.mean_absolute_error(y_test,Xg_pred))\n",
        "print('rmse:',np.sqrt(metrics.mean_squared_error(y_test,Xg_pred)))\n",
        "\n",
        "mse.append(mean_squared_error(Xg_pred,y_test))\n",
        "mae.append(mean_absolute_error(Xg_pred,y_test))\n",
        "R_sq.append(r2_score(y_test,Xg_pred))\n",
        "model_name.append(\"XGboost_regression\")\n",
        "rmse.append(np.sqrt(metrics.mean_squared_error(y_test,Xg_pred)))\n",
        "plt.scatter(x=y_test,y=Xg_pred)"
      ]
    },
    {
      "cell_type": "markdown",
      "id": "faf7d561",
      "metadata": {
        "id": "faf7d561"
      },
      "source": [
        "# RANDOM FOREST"
      ]
    },
    {
      "cell_type": "code",
      "execution_count": 36,
      "id": "da23b149",
      "metadata": {
        "colab": {
          "base_uri": "https://localhost:8080/"
        },
        "id": "da23b149",
        "outputId": "396e31ab-771a-4e75-c431-c13e27cac6b7"
      },
      "outputs": [
        {
          "output_type": "stream",
          "name": "stdout",
          "text": [
            "R-square 0.9473802846215348 Train set R Squared 0.9913589183893387 Random state 99 test_size 0.2\n"
          ]
        }
      ],
      "source": [
        "model_building(features,target,RandomForestRegressor())"
      ]
    },
    {
      "cell_type": "code",
      "execution_count": null,
      "id": "55c49d51",
      "metadata": {
        "id": "55c49d51",
        "outputId": "aed40b8b-e46c-4761-962a-d2b41355932f"
      },
      "outputs": [
        {
          "name": "stdout",
          "output_type": "stream",
          "text": [
            "{'bootstrap': True, 'min_samples_split': 2, 'n_estimators': 1500}\n"
          ]
        }
      ],
      "source": [
        "x_train, x_test, y_train, y_test = train_test_split(features, target, test_size=0.2,random_state=99)\n",
        "model=RandomForestRegressor()\n",
        "param_grid = { \"n_estimators\"   : [500,1000,1500],\n",
        "              \"min_samples_split\" : [2,4,8],\n",
        "             \"bootstrap\": [True, False]\n",
        "            }\n",
        "grid = GridSearchCV(model, param_grid, n_jobs=-1, cv=5)\n",
        "grid.fit(x_train,y_train)\n",
        "print(grid.best_params_)"
      ]
    },
    {
      "cell_type": "code",
      "execution_count": 37,
      "id": "9bdf6d19",
      "metadata": {
        "colab": {
          "base_uri": "https://localhost:8080/",
          "height": 376
        },
        "id": "9bdf6d19",
        "outputId": "1b29ae16-a52a-4dc7-ad93-2659bc889508"
      },
      "outputs": [
        {
          "output_type": "stream",
          "name": "stdout",
          "text": [
            "R2_score: 0.948831887289948\n",
            "mse: 6975348752.584059\n",
            "mae: 50333.0012047502\n",
            "rmse: 83518.55334345812\n"
          ]
        },
        {
          "output_type": "execute_result",
          "data": {
            "text/plain": [
              "<matplotlib.collections.PathCollection at 0x7f26dfa5c490>"
            ]
          },
          "metadata": {},
          "execution_count": 37
        },
        {
          "output_type": "display_data",
          "data": {
            "text/plain": [
              "<Figure size 432x288 with 1 Axes>"
            ],
            "image/png": "[encoded data removed]"
          },
          "metadata": {
            "needs_background": "light"
          }
        }
      ],
      "source": [
        "RF=RandomForestRegressor(n_estimators= 1500,bootstrap= True,min_samples_split=2,)\n",
        "RF.fit(x_train,y_train)\n",
        "RF_pred=RF.predict(x_test)\n",
        "print('R2_score:',r2_score(y_test,RF_pred))\n",
        "print('mse:',metrics.mean_squared_error(y_test,RF_pred))\n",
        "print('mae:',metrics.mean_absolute_error(y_test,RF_pred))\n",
        "print('rmse:',np.sqrt(metrics.mean_squared_error(y_test,RF_pred)))\n",
        "\n",
        "mse.append(mean_squared_error(RF_pred,y_test))\n",
        "mae.append(mean_absolute_error(RF_pred,y_test))\n",
        "R_sq.append(r2_score(y_test,RF_pred))\n",
        "model_name.append(\"Random_forest_regression\")\n",
        "rmse.append(np.sqrt(metrics.mean_squared_error(y_test,RF_pred)))\n",
        "plt.scatter(x=y_test,y=RF_pred)"
      ]
    },
    {
      "cell_type": "code",
      "execution_count": 38,
      "id": "a7d5e9ea",
      "metadata": {
        "colab": {
          "base_uri": "https://localhost:8080/",
          "height": 206
        },
        "id": "a7d5e9ea",
        "outputId": "23dba84e-b9da-48cd-ce4a-b4b509778722"
      },
      "outputs": [
        {
          "output_type": "execute_result",
          "data": {
            "text/plain": [
              "                      Model  Mean_Sq_Error  Mean_Absolute_Error  \\\n",
              "0         linear_regression   1.092410e+10         71078.721742   \n",
              "1          ridge_regression   1.092455e+10         71079.428649   \n",
              "2          lasso_regression   1.078441e+10         70791.071770   \n",
              "3        XGboost_regression   5.251454e+09         46455.235527   \n",
              "4  Random_forest_regression   6.975349e+09         50333.001205   \n",
              "\n",
              "   Root Mean Squared Error      R_sq  \n",
              "0            104518.423911  0.914772  \n",
              "1            104520.555983  0.921555  \n",
              "2            103847.996270  0.922561  \n",
              "3             72466.913817  0.961478  \n",
              "4             83518.553343  0.948832  "
            ],
            "text/html": [
              "\n",
              "  <div id=\"df-6ea48922-11d9-4376-9e8a-ffbed6ee8a97\">\n",
              "    <div class=\"colab-df-container\">\n",
              "      <div>\n",
              "<style scoped>\n",
              "    .dataframe tbody tr th:only-of-type {\n",
              "        vertical-align: middle;\n",
              "    }\n",
              "\n",
              "    .dataframe tbody tr th {\n",
              "        vertical-align: top;\n",
              "    }\n",
              "\n",
              "    .dataframe thead th {\n",
              "        text-align: right;\n",
              "    }\n",
              "</style>\n",
              "<table border=\"1\" class=\"dataframe\">\n",
              "  <thead>\n",
              "    <tr style=\"text-align: right;\">\n",
              "      <th></th>\n",
              "      <th>Model</th>\n",
              "      <th>Mean_Sq_Error</th>\n",
              "      <th>Mean_Absolute_Error</th>\n",
              "      <th>Root Mean Squared Error</th>\n",
              "      <th>R_sq</th>\n",
              "    </tr>\n",
              "  </thead>\n",
              "  <tbody>\n",
              "    <tr>\n",
              "      <th>0</th>\n",
              "      <td>linear_regression</td>\n",
              "      <td>1.092410e+10</td>\n",
              "      <td>71078.721742</td>\n",
              "      <td>104518.423911</td>\n",
              "      <td>0.914772</td>\n",
              "    </tr>\n",
              "    <tr>\n",
              "      <th>1</th>\n",
              "      <td>ridge_regression</td>\n",
              "      <td>1.092455e+10</td>\n",
              "      <td>71079.428649</td>\n",
              "      <td>104520.555983</td>\n",
              "      <td>0.921555</td>\n",
              "    </tr>\n",
              "    <tr>\n",
              "      <th>2</th>\n",
              "      <td>lasso_regression</td>\n",
              "      <td>1.078441e+10</td>\n",
              "      <td>70791.071770</td>\n",
              "      <td>103847.996270</td>\n",
              "      <td>0.922561</td>\n",
              "    </tr>\n",
              "    <tr>\n",
              "      <th>3</th>\n",
              "      <td>XGboost_regression</td>\n",
              "      <td>5.251454e+09</td>\n",
              "      <td>46455.235527</td>\n",
              "      <td>72466.913817</td>\n",
              "      <td>0.961478</td>\n",
              "    </tr>\n",
              "    <tr>\n",
              "      <th>4</th>\n",
              "      <td>Random_forest_regression</td>\n",
              "      <td>6.975349e+09</td>\n",
              "      <td>50333.001205</td>\n",
              "      <td>83518.553343</td>\n",
              "      <td>0.948832</td>\n",
              "    </tr>\n",
              "  </tbody>\n",
              "</table>\n",
              "</div>\n",
              "      <button class=\"colab-df-convert\" onclick=\"convertToInteractive('df-6ea48922-11d9-4376-9e8a-ffbed6ee8a97')\"\n",
              "              title=\"Convert this dataframe to an interactive table.\"\n",
              "              style=\"display:none;\">\n",
              "        \n",
              "  <svg xmlns=\"http://www.w3.org/2000/svg\" height=\"24px\"viewBox=\"0 0 24 24\"\n",
              "       width=\"24px\">\n",
              "    <path d=\"M0 0h24v24H0V0z\" fill=\"none\"/>\n",
              "    <path d=\"M18.56 5.44l.94 2.06.94-2.06 2.06-.94-2.06-.94-.94-2.06-.94 2.06-2.06.94zm-11 1L8.5 8.5l.94-2.06 2.06-.94-2.06-.94L8.5 2.5l-.94 2.06-2.06.94zm10 10l.94 2.06.94-2.06 2.06-.94-2.06-.94-.94-2.06-.94 2.06-2.06.94z\"/><path d=\"M17.41 7.96l-1.37-1.37c-.4-.4-.92-.59-1.43-.59-.52 0-1.04.2-1.43.59L10.3 9.45l-7.72 7.72c-.78.78-.78 2.05 0 2.83L4 21.41c.39.39.9.59 1.41.59.51 0 1.02-.2 1.41-.59l7.78-7.78 2.81-2.81c.8-.78.8-2.07 0-2.86zM5.41 20L4 18.59l7.72-7.72 1.47 1.35L5.41 20z\"/>\n",
              "  </svg>\n",
              "      </button>\n",
              "      \n",
              "  <style>\n",
              "    .colab-df-container {\n",
              "      display:flex;\n",
              "      flex-wrap:wrap;\n",
              "      gap: 12px;\n",
              "    }\n",
              "\n",
              "    .colab-df-convert {\n",
              "      background-color: #E8F0FE;\n",
              "      border: none;\n",
              "      border-radius: 50%;\n",
              "      cursor: pointer;\n",
              "      display: none;\n",
              "      fill: #1967D2;\n",
              "      height: 32px;\n",
              "      padding: 0 0 0 0;\n",
              "      width: 32px;\n",
              "    }\n",
              "\n",
              "    .colab-df-convert:hover {\n",
              "      background-color: #E2EBFA;\n",
              "      box-shadow: 0px 1px 2px rgba(60, 64, 67, 0.3), 0px 1px 3px 1px rgba(60, 64, 67, 0.15);\n",
              "      fill: #174EA6;\n",
              "    }\n",
              "\n",
              "    [theme=dark] .colab-df-convert {\n",
              "      background-color: #3B4455;\n",
              "      fill: #D2E3FC;\n",
              "    }\n",
              "\n",
              "    [theme=dark] .colab-df-convert:hover {\n",
              "      background-color: #434B5C;\n",
              "      box-shadow: 0px 1px 3px 1px rgba(0, 0, 0, 0.15);\n",
              "      filter: drop-shadow(0px 1px 2px rgba(0, 0, 0, 0.3));\n",
              "      fill: #FFFFFF;\n",
              "    }\n",
              "  </style>\n",
              "\n",
              "      <script>\n",
              "        const buttonEl =\n",
              "          document.querySelector('#df-6ea48922-11d9-4376-9e8a-ffbed6ee8a97 button.colab-df-convert');\n",
              "        buttonEl.style.display =\n",
              "          google.colab.kernel.accessAllowed ? 'block' : 'none';\n",
              "\n",
              "        async function convertToInteractive(key) {\n",
              "          const element = document.querySelector('#df-6ea48922-11d9-4376-9e8a-ffbed6ee8a97');\n",
              "          const dataTable =\n",
              "            await google.colab.kernel.invokeFunction('convertToInteractive',\n",
              "                                                     [key], {});\n",
              "          if (!dataTable) return;\n",
              "\n",
              "          const docLinkHtml = 'Like what you see? Visit the ' +\n",
              "            '<a target=\"_blank\" href=https://colab.research.google.com/notebooks/data_table.ipynb>data table notebook</a>'\n",
              "            + ' to learn more about interactive tables.';\n",
              "          element.innerHTML = '';\n",
              "          dataTable['output_type'] = 'display_data';\n",
              "          await google.colab.output.renderOutput(dataTable, element);\n",
              "          const docLink = document.createElement('div');\n",
              "          docLink.innerHTML = docLinkHtml;\n",
              "          element.appendChild(docLink);\n",
              "        }\n",
              "      </script>\n",
              "    </div>\n",
              "  </div>\n",
              "  "
            ]
          },
          "metadata": {},
          "execution_count": 38
        }
      ],
      "source": [
        "# comparision\n",
        "data = list(zip(model_name,mse,mae,rmse,R_sq))                                           \n",
        "df = pd.DataFrame(data,columns=[\"Model\",\"Mean_Sq_Error\",\"Mean_Absolute_Error\",\"Root Mean Squared Error\",'R_sq'])                    #Creating DataFrame    \n",
        "df"
      ]
    },
    {
      "cell_type": "markdown",
      "id": "90f5f7cd",
      "metadata": {
        "id": "90f5f7cd"
      },
      "source": [
        "# Pickle file of the model"
      ]
    },
    {
      "cell_type": "code",
      "execution_count": 39,
      "id": "e879c909",
      "metadata": {
        "colab": {
          "base_uri": "https://localhost:8080/",
          "height": 205
        },
        "id": "e879c909",
        "outputId": "183d6f9f-3cfc-4931-e79d-2fea5e486964"
      },
      "outputs": [
        {
          "output_type": "execute_result",
          "data": {
            "text/plain": [
              "                   0             1          2            3            4    \\\n",
              "Predicted  669872.4375  506371.28125  1842300.0  652445.8125  932009.9375   \n",
              "Original   542699.0000  428299.00000  1682799.0  509799.0000  978599.0000   \n",
              "\n",
              "                  5            6         7         8           9    ...  \\\n",
              "Predicted   961207.75  491310.8125  830773.5  340082.5  1241262.25  ...   \n",
              "Original   1119599.00  463099.0000  786899.0  325299.0  1231599.00  ...   \n",
              "\n",
              "                804       805          806         807        808  \\\n",
              "Predicted  625085.0  787337.5  669756.9375  372089.375  341087.75   \n",
              "Original   663599.0  778299.0  725399.0000  330499.000  303299.00   \n",
              "\n",
              "                    809          810        811         812         813  \n",
              "Predicted  1.035514e+06  882143.6875  629648.25  706671.875  415498.375  \n",
              "Original   1.148899e+06  892699.0000  602099.00  845799.000  497499.000  \n",
              "\n",
              "[2 rows x 814 columns]"
            ],
            "text/html": [
              "\n",
              "  <div id=\"df-5ad5f68a-220b-4ea5-a0f9-32d707281add\">\n",
              "    <div class=\"colab-df-container\">\n",
              "      <div>\n",
              "<style scoped>\n",
              "    .dataframe tbody tr th:only-of-type {\n",
              "        vertical-align: middle;\n",
              "    }\n",
              "\n",
              "    .dataframe tbody tr th {\n",
              "        vertical-align: top;\n",
              "    }\n",
              "\n",
              "    .dataframe thead th {\n",
              "        text-align: right;\n",
              "    }\n",
              "</style>\n",
              "<table border=\"1\" class=\"dataframe\">\n",
              "  <thead>\n",
              "    <tr style=\"text-align: right;\">\n",
              "      <th></th>\n",
              "      <th>0</th>\n",
              "      <th>1</th>\n",
              "      <th>2</th>\n",
              "      <th>3</th>\n",
              "      <th>4</th>\n",
              "      <th>5</th>\n",
              "      <th>6</th>\n",
              "      <th>7</th>\n",
              "      <th>8</th>\n",
              "      <th>9</th>\n",
              "      <th>...</th>\n",
              "      <th>804</th>\n",
              "      <th>805</th>\n",
              "      <th>806</th>\n",
              "      <th>807</th>\n",
              "      <th>808</th>\n",
              "      <th>809</th>\n",
              "      <th>810</th>\n",
              "      <th>811</th>\n",
              "      <th>812</th>\n",
              "      <th>813</th>\n",
              "    </tr>\n",
              "  </thead>\n",
              "  <tbody>\n",
              "    <tr>\n",
              "      <th>Predicted</th>\n",
              "      <td>669872.4375</td>\n",
              "      <td>506371.28125</td>\n",
              "      <td>1842300.0</td>\n",
              "      <td>652445.8125</td>\n",
              "      <td>932009.9375</td>\n",
              "      <td>961207.75</td>\n",
              "      <td>491310.8125</td>\n",
              "      <td>830773.5</td>\n",
              "      <td>340082.5</td>\n",
              "      <td>1241262.25</td>\n",
              "      <td>...</td>\n",
              "      <td>625085.0</td>\n",
              "      <td>787337.5</td>\n",
              "      <td>669756.9375</td>\n",
              "      <td>372089.375</td>\n",
              "      <td>341087.75</td>\n",
              "      <td>1.035514e+06</td>\n",
              "      <td>882143.6875</td>\n",
              "      <td>629648.25</td>\n",
              "      <td>706671.875</td>\n",
              "      <td>415498.375</td>\n",
              "    </tr>\n",
              "    <tr>\n",
              "      <th>Original</th>\n",
              "      <td>542699.0000</td>\n",
              "      <td>428299.00000</td>\n",
              "      <td>1682799.0</td>\n",
              "      <td>509799.0000</td>\n",
              "      <td>978599.0000</td>\n",
              "      <td>1119599.00</td>\n",
              "      <td>463099.0000</td>\n",
              "      <td>786899.0</td>\n",
              "      <td>325299.0</td>\n",
              "      <td>1231599.00</td>\n",
              "      <td>...</td>\n",
              "      <td>663599.0</td>\n",
              "      <td>778299.0</td>\n",
              "      <td>725399.0000</td>\n",
              "      <td>330499.000</td>\n",
              "      <td>303299.00</td>\n",
              "      <td>1.148899e+06</td>\n",
              "      <td>892699.0000</td>\n",
              "      <td>602099.00</td>\n",
              "      <td>845799.000</td>\n",
              "      <td>497499.000</td>\n",
              "    </tr>\n",
              "  </tbody>\n",
              "</table>\n",
              "<p>2 rows × 814 columns</p>\n",
              "</div>\n",
              "      <button class=\"colab-df-convert\" onclick=\"convertToInteractive('df-5ad5f68a-220b-4ea5-a0f9-32d707281add')\"\n",
              "              title=\"Convert this dataframe to an interactive table.\"\n",
              "              style=\"display:none;\">\n",
              "        \n",
              "  <svg xmlns=\"http://www.w3.org/2000/svg\" height=\"24px\"viewBox=\"0 0 24 24\"\n",
              "       width=\"24px\">\n",
              "    <path d=\"M0 0h24v24H0V0z\" fill=\"none\"/>\n",
              "    <path d=\"M18.56 5.44l.94 2.06.94-2.06 2.06-.94-2.06-.94-.94-2.06-.94 2.06-2.06.94zm-11 1L8.5 8.5l.94-2.06 2.06-.94-2.06-.94L8.5 2.5l-.94 2.06-2.06.94zm10 10l.94 2.06.94-2.06 2.06-.94-2.06-.94-.94-2.06-.94 2.06-2.06.94z\"/><path d=\"M17.41 7.96l-1.37-1.37c-.4-.4-.92-.59-1.43-.59-.52 0-1.04.2-1.43.59L10.3 9.45l-7.72 7.72c-.78.78-.78 2.05 0 2.83L4 21.41c.39.39.9.59 1.41.59.51 0 1.02-.2 1.41-.59l7.78-7.78 2.81-2.81c.8-.78.8-2.07 0-2.86zM5.41 20L4 18.59l7.72-7.72 1.47 1.35L5.41 20z\"/>\n",
              "  </svg>\n",
              "      </button>\n",
              "      \n",
              "  <style>\n",
              "    .colab-df-container {\n",
              "      display:flex;\n",
              "      flex-wrap:wrap;\n",
              "      gap: 12px;\n",
              "    }\n",
              "\n",
              "    .colab-df-convert {\n",
              "      background-color: #E8F0FE;\n",
              "      border: none;\n",
              "      border-radius: 50%;\n",
              "      cursor: pointer;\n",
              "      display: none;\n",
              "      fill: #1967D2;\n",
              "      height: 32px;\n",
              "      padding: 0 0 0 0;\n",
              "      width: 32px;\n",
              "    }\n",
              "\n",
              "    .colab-df-convert:hover {\n",
              "      background-color: #E2EBFA;\n",
              "      box-shadow: 0px 1px 2px rgba(60, 64, 67, 0.3), 0px 1px 3px 1px rgba(60, 64, 67, 0.15);\n",
              "      fill: #174EA6;\n",
              "    }\n",
              "\n",
              "    [theme=dark] .colab-df-convert {\n",
              "      background-color: #3B4455;\n",
              "      fill: #D2E3FC;\n",
              "    }\n",
              "\n",
              "    [theme=dark] .colab-df-convert:hover {\n",
              "      background-color: #434B5C;\n",
              "      box-shadow: 0px 1px 3px 1px rgba(0, 0, 0, 0.15);\n",
              "      filter: drop-shadow(0px 1px 2px rgba(0, 0, 0, 0.3));\n",
              "      fill: #FFFFFF;\n",
              "    }\n",
              "  </style>\n",
              "\n",
              "      <script>\n",
              "        const buttonEl =\n",
              "          document.querySelector('#df-5ad5f68a-220b-4ea5-a0f9-32d707281add button.colab-df-convert');\n",
              "        buttonEl.style.display =\n",
              "          google.colab.kernel.accessAllowed ? 'block' : 'none';\n",
              "\n",
              "        async function convertToInteractive(key) {\n",
              "          const element = document.querySelector('#df-5ad5f68a-220b-4ea5-a0f9-32d707281add');\n",
              "          const dataTable =\n",
              "            await google.colab.kernel.invokeFunction('convertToInteractive',\n",
              "                                                     [key], {});\n",
              "          if (!dataTable) return;\n",
              "\n",
              "          const docLinkHtml = 'Like what you see? Visit the ' +\n",
              "            '<a target=\"_blank\" href=https://colab.research.google.com/notebooks/data_table.ipynb>data table notebook</a>'\n",
              "            + ' to learn more about interactive tables.';\n",
              "          element.innerHTML = '';\n",
              "          dataTable['output_type'] = 'display_data';\n",
              "          await google.colab.output.renderOutput(dataTable, element);\n",
              "          const docLink = document.createElement('div');\n",
              "          docLink.innerHTML = docLinkHtml;\n",
              "          element.appendChild(docLink);\n",
              "        }\n",
              "      </script>\n",
              "    </div>\n",
              "  </div>\n",
              "  "
            ]
          },
          "metadata": {},
          "execution_count": 39
        }
      ],
      "source": [
        "import pickle\n",
        "\n",
        "#saved the trained model in file with given name\n",
        "pickle_out = open(\"car_price.pkl\",\"wb\") # name of my pickle file , wb -write\n",
        "pickle.dump(Xg, pickle_out)\n",
        "pickle_out.close()\n",
        "\n",
        "# loading the pickeled model\n",
        "pickle_in = open(\"car_price.pkl\",\"rb\") # rb -> read the pickel file\n",
        "trained_model = pickle.load(pickle_in)\n",
        "pd.DataFrame([trained_model.predict(x_test)[:],y_test[:]],index=[\"Predicted\",\"Original\"])\n"
      ]
    },
    {
      "cell_type": "markdown",
      "id": "04891534",
      "metadata": {
        "id": "04891534"
      },
      "source": [
        "# Case study Completed\n",
        "# The price can be predicted more accurately if the condition of the car was known"
      ]
    }
  ],
  "metadata": {
    "kernelspec": {
      "display_name": "Python 3 (ipykernel)",
      "language": "python",
      "name": "python3"
    },
    "language_info": {
      "codemirror_mode": {
        "name": "ipython",
        "version": 3
      },
      "file_extension": ".py",
      "mimetype": "text/x-python",
      "name": "python",
      "nbconvert_exporter": "python",
      "pygments_lexer": "ipython3",
      "version": "3.9.12"
    },
    "colab": {
      "name": "Car_Price_prediction.ipynb",
      "provenance": []
    }
  },
  "nbformat": 4,
  "nbformat_minor": 5
}